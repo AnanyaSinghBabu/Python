{
 "cells": [
  {
   "cell_type": "markdown",
   "id": "fb26e76a",
   "metadata": {},
   "source": [
    "SET DATA TYPE"
   ]
  },
  {
   "cell_type": "code",
   "execution_count": 1,
   "id": "bc81ae10",
   "metadata": {},
   "outputs": [
    {
     "name": "stdout",
     "output_type": "stream",
     "text": [
      "{40, 10, 20, 30}\n",
      "<class 'set'>\n"
     ]
    }
   ],
   "source": [
    "s= {10,20,30,40} \n",
    "print(s) \n",
    "print(type(s))"
   ]
  },
  {
   "cell_type": "code",
   "execution_count": 2,
   "id": "4864b05c",
   "metadata": {},
   "outputs": [
    {
     "name": "stdout",
     "output_type": "stream",
     "text": [
      "{40, 10, 20, 30}\n"
     ]
    }
   ],
   "source": [
    "l = [10,20,30,40,10,20,10] \n",
    "s=set(l) \n",
    "print(s)"
   ]
  },
  {
   "cell_type": "code",
   "execution_count": 5,
   "id": "a59031c2",
   "metadata": {},
   "outputs": [
    {
     "name": "stdout",
     "output_type": "stream",
     "text": [
      "\n",
      "<class 'dict'>\n"
     ]
    }
   ],
   "source": [
    "s={}\n",
    "print()\n",
    "print(type(s))"
   ]
  },
  {
   "cell_type": "code",
   "execution_count": 6,
   "id": "d926935d",
   "metadata": {},
   "outputs": [
    {
     "name": "stdout",
     "output_type": "stream",
     "text": [
      "{1, 2, 3, 4, 5, 6, 9}\n"
     ]
    }
   ],
   "source": [
    "# add\n",
    "e={1,2,3,4,5,6}\n",
    "e.add(9)\n",
    "print(e)"
   ]
  },
  {
   "cell_type": "code",
   "execution_count": 9,
   "id": "ceb663ee",
   "metadata": {},
   "outputs": [
    {
     "name": "stdout",
     "output_type": "stream",
     "text": [
      "{0, 1, 2, 3, 4, 40, 10, 50, 20, 60, 30}\n"
     ]
    }
   ],
   "source": [
    "# update\n",
    "a={10,20,30}  \n",
    "l=[40,50,60]\n",
    "a.update(l,range(5)) \n",
    "print(a)"
   ]
  },
  {
   "cell_type": "code",
   "execution_count": 11,
   "id": "1296ad63",
   "metadata": {},
   "outputs": [
    {
     "name": "stdout",
     "output_type": "stream",
     "text": [
      "{10, 20, 30}\n"
     ]
    }
   ],
   "source": [
    "# copy \n",
    "a={10,20,30} \n",
    "a1=a.copy() \n",
    "print(a1) "
   ]
  },
  {
   "cell_type": "code",
   "execution_count": 15,
   "id": "014173e4",
   "metadata": {},
   "outputs": [
    {
     "name": "stdout",
     "output_type": "stream",
     "text": [
      "{40, 10, 20, 30}\n",
      "40\n",
      "{10, 20, 30}\n"
     ]
    }
   ],
   "source": [
    "# pop\n",
    "a={40,10,30,20} \n",
    "print(a)           \n",
    "print(a.pop()) \n",
    "print(a) "
   ]
  },
  {
   "cell_type": "code",
   "execution_count": 16,
   "id": "690889a2",
   "metadata": {},
   "outputs": [
    {
     "name": "stdout",
     "output_type": "stream",
     "text": [
      "{40, 10, 20}\n"
     ]
    }
   ],
   "source": [
    "#remove()\n",
    "d={40,10,30,20} \n",
    "d.remove(30) \n",
    "print(d)"
   ]
  },
  {
   "cell_type": "code",
   "execution_count": 18,
   "id": "d8cac9a3",
   "metadata": {},
   "outputs": [
    {
     "name": "stdout",
     "output_type": "stream",
     "text": [
      "{40, 10}\n"
     ]
    }
   ],
   "source": [
    "d.discard(20)\n",
    "print(d)"
   ]
  },
  {
   "cell_type": "code",
   "execution_count": null,
   "id": "e2c568b1",
   "metadata": {},
   "outputs": [
    {
     "name": "stdout",
     "output_type": "stream",
     "text": [
      "{65, 34, 5}\n",
      "{65, 34, 5}\n"
     ]
    }
   ],
   "source": [
    "#mathematical operation\n",
    "# difference\n",
    "e={12,15,34,5,65,34,4}\n",
    "f={3,4,12,45,33,7,15}\n",
    "print(e.difference(f)) #or we can write\n",
    "print(e-f)\n"
   ]
  },
  {
   "cell_type": "code",
   "execution_count": 25,
   "id": "ba8ea087",
   "metadata": {},
   "outputs": [
    {
     "name": "stdout",
     "output_type": "stream",
     "text": [
      "{33, 3, 45, 7}\n"
     ]
    }
   ],
   "source": [
    "print(f.difference(e))"
   ]
  },
  {
   "cell_type": "code",
   "execution_count": 23,
   "id": "179d4daf",
   "metadata": {},
   "outputs": [
    {
     "name": "stdout",
     "output_type": "stream",
     "text": [
      "{65, 34, 33, 4, 5, 3, 7, 12, 45, 15}\n",
      "{65, 34, 33, 4, 5, 3, 7, 12, 45, 15}\n"
     ]
    }
   ],
   "source": [
    "#union\n",
    "print(e.union(f)) #or we can write\n",
    "print(e|f)"
   ]
  },
  {
   "cell_type": "code",
   "execution_count": 27,
   "id": "0ebcaa33",
   "metadata": {},
   "outputs": [
    {
     "name": "stdout",
     "output_type": "stream",
     "text": [
      "{4, 12, 15}\n"
     ]
    }
   ],
   "source": [
    "# intersection\n",
    "\n",
    "e={12,15,34,5,65,34,4}\n",
    "f={3,4,12,45,33,7,15}\n",
    "print(e.intersection(f))"
   ]
  },
  {
   "cell_type": "code",
   "execution_count": 26,
   "id": "5f455d47",
   "metadata": {},
   "outputs": [
    {
     "name": "stdout",
     "output_type": "stream",
     "text": [
      "{4, 12, 15}\n"
     ]
    }
   ],
   "source": [
    "print(f&e)"
   ]
  },
  {
   "cell_type": "code",
   "execution_count": 28,
   "id": "07224c50",
   "metadata": {},
   "outputs": [
    {
     "name": "stdout",
     "output_type": "stream",
     "text": [
      "{65, 3, 5, 7, 33, 34, 45}\n"
     ]
    }
   ],
   "source": [
    "# symmetric_difference\n",
    "\n",
    "print(e.symmetric_difference(f))"
   ]
  },
  {
   "cell_type": "code",
   "execution_count": 29,
   "id": "14a3e50d",
   "metadata": {},
   "outputs": [
    {
     "name": "stdout",
     "output_type": "stream",
     "text": [
      "{65, 3, 5, 7, 33, 34, 45}\n"
     ]
    }
   ],
   "source": [
    "print(f.symmetric_difference(e))"
   ]
  },
  {
   "cell_type": "markdown",
   "id": "8a8bb6ed",
   "metadata": {},
   "source": [
    "MEMBERSHIP OPERATORS: (in,not in)"
   ]
  },
  {
   "cell_type": "code",
   "execution_count": 32,
   "id": "66f06ae2",
   "metadata": {},
   "outputs": [
    {
     "name": "stdout",
     "output_type": "stream",
     "text": [
      "{'a', 'n', 'y'}\n",
      "True\n",
      "False\n"
     ]
    }
   ],
   "source": [
    "s=set(\"ananya\") \n",
    "print(s)\n",
    "print('a' in s)\n",
    "print('e' in s)"
   ]
  },
  {
   "cell_type": "markdown",
   "id": "ee4cc717",
   "metadata": {},
   "source": [
    "SET OBJECTS won't supports indexing and slicing"
   ]
  },
  {
   "cell_type": "code",
   "execution_count": 33,
   "id": "2f349ddf",
   "metadata": {},
   "outputs": [
    {
     "ename": "TypeError",
     "evalue": "'set' object is not subscriptable",
     "output_type": "error",
     "traceback": [
      "\u001b[31m---------------------------------------------------------------------------\u001b[39m",
      "\u001b[31mTypeError\u001b[39m                                 Traceback (most recent call last)",
      "\u001b[36mCell\u001b[39m\u001b[36m \u001b[39m\u001b[32mIn[33]\u001b[39m\u001b[32m, line 3\u001b[39m\n\u001b[32m      1\u001b[39m \u001b[38;5;66;03m# example\u001b[39;00m\n\u001b[32m      2\u001b[39m s={\u001b[32m10\u001b[39m,\u001b[32m20\u001b[39m,\u001b[32m30\u001b[39m,\u001b[32m40\u001b[39m} \n\u001b[32m----> \u001b[39m\u001b[32m3\u001b[39m \u001b[38;5;28mprint\u001b[39m(\u001b[43ms\u001b[49m\u001b[43m[\u001b[49m\u001b[32;43m0\u001b[39;49m\u001b[43m]\u001b[49m) \n\u001b[32m      4\u001b[39m \u001b[38;5;28mprint\u001b[39m(s[\u001b[32m1\u001b[39m:\u001b[32m3\u001b[39m])\n",
      "\u001b[31mTypeError\u001b[39m: 'set' object is not subscriptable"
     ]
    }
   ],
   "source": [
    "# example\n",
    "s={10,20,30,40} \n",
    "print(s[0]) \n",
    "print(s[1:3])"
   ]
  },
  {
   "cell_type": "markdown",
   "id": "a90bcec0",
   "metadata": {},
   "source": []
  },
  {
   "cell_type": "code",
   "execution_count": null,
   "id": "27781f14",
   "metadata": {},
   "outputs": [],
   "source": []
  }
 ],
 "metadata": {
  "kernelspec": {
   "display_name": "venv",
   "language": "python",
   "name": "python3"
  },
  "language_info": {
   "codemirror_mode": {
    "name": "ipython",
    "version": 3
   },
   "file_extension": ".py",
   "mimetype": "text/x-python",
   "name": "python",
   "nbconvert_exporter": "python",
   "pygments_lexer": "ipython3",
   "version": "3.12.10"
  }
 },
 "nbformat": 4,
 "nbformat_minor": 5
}
