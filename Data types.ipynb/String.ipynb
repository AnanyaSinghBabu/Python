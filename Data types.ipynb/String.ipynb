{
 "cells": [
  {
   "cell_type": "markdown",
   "id": "69ff380a",
   "metadata": {},
   "source": [
    "STRING DATA TYPES"
   ]
  },
  {
   "cell_type": "code",
   "execution_count": 1,
   "id": "5c153fc4",
   "metadata": {},
   "outputs": [
    {
     "name": "stdout",
     "output_type": "stream",
     "text": [
      "ksjdsdsnd\n"
     ]
    }
   ],
   "source": [
    "s='ksjdsdsnd'\n",
    "print(s)"
   ]
  },
  {
   "cell_type": "code",
   "execution_count": 4,
   "id": "ed5ca1e0",
   "metadata": {},
   "outputs": [
    {
     "name": "stdout",
     "output_type": "stream",
     "text": [
      "Hello Pratik. How are you?\n"
     ]
    }
   ],
   "source": [
    "s='Hello Pratik. How are you?'\n",
    "print(s)"
   ]
  },
  {
   "cell_type": "markdown",
   "id": "e9038015",
   "metadata": {},
   "source": [
    "no_space"
   ]
  },
  {
   "cell_type": "code",
   "execution_count": 71,
   "id": "4c7ca2cc",
   "metadata": {},
   "outputs": [
    {
     "name": "stdout",
     "output_type": "stream",
     "text": [
      "Hello Ram.How are you?\n"
     ]
    }
   ],
   "source": [
    "text = \"Hello Ram.How are you?\"\n",
    "\n",
    "print(\"Hello Ram.How are you?\".replace(\" \",\" \"))"
   ]
  },
  {
   "cell_type": "code",
   "execution_count": null,
   "id": "7a4c8ea1",
   "metadata": {},
   "outputs": [
    {
     "name": "stdout",
     "output_type": "stream",
     "text": [
      "   Hello World   \n"
     ]
    }
   ],
   "source": [
    "text = \"   Hello World   \"\n",
    "cleaned= text\n",
    "print(cleaned)"
   ]
  },
  {
   "cell_type": "code",
   "execution_count": null,
   "id": "48bf3ca9",
   "metadata": {},
   "outputs": [],
   "source": []
  },
  {
   "cell_type": "markdown",
   "id": "95c75469",
   "metadata": {},
   "source": [
    "REPLACE"
   ]
  },
  {
   "cell_type": "code",
   "execution_count": 16,
   "id": "acbdeef2",
   "metadata": {},
   "outputs": [
    {
     "name": "stdout",
     "output_type": "stream",
     "text": [
      "Learning Python is very difficult\n",
      "Learning Python is very easy\n"
     ]
    }
   ],
   "source": [
    "s=\"Learning Python is very difficult\" \n",
    "\n",
    "print(s) \n",
    "s1=s.replace(\"difficult\",\"easy\")\n",
    "print(s1)"
   ]
  },
  {
   "cell_type": "code",
   "execution_count": 19,
   "id": "b6c9c149",
   "metadata": {},
   "outputs": [
    {
     "name": "stdout",
     "output_type": "stream",
     "text": [
      "d,d,d,d,f,f,g,c,z,d,g,j,y,l\n"
     ]
    }
   ],
   "source": [
    "s=\"s,d,d,s,f,f,g,c,z,s,g,j,y,l\"\n",
    "s1=s.replace(\"s\",\"d\")\n",
    "print(s1)"
   ]
  },
  {
   "cell_type": "code",
   "execution_count": 20,
   "id": "5092387a",
   "metadata": {},
   "outputs": [
    {
     "name": "stdout",
     "output_type": "stream",
     "text": [
      "abab is available at : 1573537866656\n",
      "bbbb is available at : 1573537873472\n"
     ]
    }
   ],
   "source": [
    "s=\"abab\" \n",
    "s1=s.replace(\"a\",\"b\") \n",
    "print(s,\"is available at :\",id(s)) \n",
    "print(s1,\"is available at :\",id(s1)) \n"
   ]
  },
  {
   "cell_type": "code",
   "execution_count": 22,
   "id": "1d95f23e",
   "metadata": {},
   "outputs": [
    {
     "name": "stdout",
     "output_type": "stream",
     "text": [
      "acac is available at : 1573537866896\n",
      "bcbc is available at : 1573537866656\n"
     ]
    }
   ],
   "source": [
    "s=\"acac\" \n",
    "s1=s.replace(\"a\",\"b\") \n",
    "print(s,\"is available at :\",id(s)) \n",
    "print(s1,\"is available at :\",id(s1)) "
   ]
  },
  {
   "cell_type": "markdown",
   "id": "62794915",
   "metadata": {},
   "source": [
    "spliting of string"
   ]
  },
  {
   "cell_type": "code",
   "execution_count": 7,
   "id": "7596598a",
   "metadata": {},
   "outputs": [
    {
     "name": "stdout",
     "output_type": "stream",
     "text": [
      "welcome\n",
      "to\n",
      "bput\n",
      "college\n"
     ]
    }
   ],
   "source": [
    "s=\"welcome to bput college\" \n",
    "l=s.split() \n",
    "for i in l:\n",
    "    print(i)"
   ]
  },
  {
   "cell_type": "code",
   "execution_count": 11,
   "id": "e6779bfd",
   "metadata": {},
   "outputs": [
    {
     "name": "stdout",
     "output_type": "stream",
     "text": [
      "['welcome', 'to', 'bput', 'college']\n"
     ]
    }
   ],
   "source": [
    "s=\"welcome to bput college\" \n",
    "l=s.split() \n",
    "print(l)"
   ]
  },
  {
   "cell_type": "code",
   "execution_count": 12,
   "id": "292fdb00",
   "metadata": {},
   "outputs": [
    {
     "name": "stdout",
     "output_type": "stream",
     "text": [
      "college\n",
      "bput\n",
      "to\n",
      "welcome\n"
     ]
    }
   ],
   "source": [
    "# reversed slicing\n",
    "s = \"welcome to bput college\"\n",
    "l = s.split()\n",
    "for i in reversed(l):\n",
    "    print(i)\n"
   ]
  },
  {
   "cell_type": "code",
   "execution_count": 17,
   "id": "dc50e6af",
   "metadata": {},
   "outputs": [
    {
     "name": "stdout",
     "output_type": "stream",
     "text": [
      "['welcom', 'to', 'bput', 'college']\n",
      "['welcom', 'to', 'bput', 'college']\n",
      "['welcom', 'to', 'bput', 'college']\n",
      "['welcom', 'to', 'bput', 'college']\n"
     ]
    }
   ],
   "source": [
    "s=\"welcom to bput college\"\n",
    "l=s.split()\n",
    "for i in reversed(l):\n",
    " print(l)"
   ]
  },
  {
   "cell_type": "code",
   "execution_count": 25,
   "id": "290ee02c",
   "metadata": {},
   "outputs": [
    {
     "name": "stdout",
     "output_type": "stream",
     "text": [
      "11\n",
      "02\n",
      "2020\n"
     ]
    }
   ],
   "source": [
    "s=\"11-02-2020\" \n",
    "l=s.split('-') \n",
    "for i in (l):\n",
    " print(i)"
   ]
  },
  {
   "cell_type": "code",
   "execution_count": 26,
   "id": "5eb9352d",
   "metadata": {},
   "outputs": [
    {
     "name": "stdout",
     "output_type": "stream",
     "text": [
      "2020\n"
     ]
    }
   ],
   "source": [
    "s=\"11-02-2020\" \n",
    "l=s.split('-') \n",
    "print(i)"
   ]
  },
  {
   "cell_type": "code",
   "execution_count": 35,
   "id": "d40d57e4",
   "metadata": {},
   "outputs": [
    {
     "name": "stdout",
     "output_type": "stream",
     "text": [
      "welcome$ to$ tkr$ college\n"
     ]
    }
   ],
   "source": [
    " \n",
    "s=(\"welcome\",\" to\",\" tkr\",\" college\") \n",
    "l=\"$\".join(s) \n",
    "print(l) "
   ]
  },
  {
   "cell_type": "code",
   "execution_count": 36,
   "id": "195e9ac6",
   "metadata": {},
   "outputs": [
    {
     "name": "stdout",
     "output_type": "stream",
     "text": [
      "welcome: to: tkr: college\n"
     ]
    }
   ],
   "source": [
    "s=[\"welcome\",\" to\",\" tkr\",\" college\"] \n",
    "l=\":\".join(s) \n",
    "print(l) "
   ]
  },
  {
   "cell_type": "code",
   "execution_count": 38,
   "id": "809cb406",
   "metadata": {},
   "outputs": [
    {
     "name": "stdout",
     "output_type": "stream",
     "text": [
      "welcome:to:tkr:college\n"
     ]
    }
   ],
   "source": [
    "s=['welcome' , 'to' , 'tkr' , 'college'] \n",
    "l=\":\".join(s) \n",
    "print(l) "
   ]
  },
  {
   "cell_type": "markdown",
   "id": "d6f86b75",
   "metadata": {},
   "source": [
    "CHANGING CASE OF A STRING"
   ]
  },
  {
   "cell_type": "code",
   "execution_count": 22,
   "id": "5eb70782",
   "metadata": {},
   "outputs": [
    {
     "name": "stdout",
     "output_type": "stream",
     "text": [
      "PYTHON IS LITTLE BIT HARD FOR ME\n",
      "python is little bit hard for me\n",
      "Python Is littLE bit HarD for me\n",
      "pYTHON iS LITTle BIT hARd FOR ME\n",
      "Python Is Little Bit Hard For Me\n",
      "Python is little bit hard for me\n",
      "['Python', 'Is', 'littLE', 'bit', 'HarD', 'for', 'me']\n",
      "Python Is littLE bit HbrD for me\n"
     ]
    }
   ],
   "source": [
    "s=\"Python Is littLE bit HarD for me\"\n",
    "print(s.upper()) \n",
    "print(s.lower())\n",
    "print(s.strip())\n",
    "print(s.swapcase())\n",
    "print(s.title())\n",
    "print(s.capitalize())\n",
    "print(s.split())\n",
    "print(s.replace(\"a\",\"b\"))"
   ]
  },
  {
   "cell_type": "markdown",
   "id": "e624bfd9",
   "metadata": {},
   "source": [
    "checking starting and ending part of string"
   ]
  },
  {
   "cell_type": "code",
   "execution_count": 23,
   "id": "2ed06974",
   "metadata": {},
   "outputs": [
    {
     "name": "stdout",
     "output_type": "stream",
     "text": [
      "True\n",
      "False\n",
      "True\n"
     ]
    }
   ],
   "source": [
    "s='learning Python is very easy' \n",
    "print(s.startswith('learning'))\n",
    "print(s.endswith('learning')) \n",
    "print(s.endswith('easy')) "
   ]
  },
  {
   "cell_type": "markdown",
   "id": "8567bed6",
   "metadata": {},
   "source": [
    "TYPE OF CHARACTER PRESENT IN SRTING\n",
    "\n",
    "1) isalnum(): Returns True if all characters are alphanumeric( a to z , A to Z ,0 to9 ) \n",
    "\n",
    "2) isalpha(): Returns True if all characters are only alphabet symbols(a to z, A to Z) \n",
    "\n",
    "3) isdigit(): Returns True if all characters are digits only( 0 to 9) \n",
    "\n",
    "4) islower(): Returns True if all characters are lower case alphabet symbols \n",
    "\n",
    "5) isupper(): Returns True if all characters are upper case aplhabet symbols \n",
    "\n",
    "6) istitle(): Returns True if string is in title case \n",
    "\n",
    "7) isspace(): Returns True if string contains only string"
   ]
  },
  {
   "cell_type": "code",
   "execution_count": 24,
   "id": "ecec13e2",
   "metadata": {},
   "outputs": [
    {
     "name": "stdout",
     "output_type": "stream",
     "text": [
      "True\n",
      "False\n",
      "True\n",
      "False\n",
      "True\n",
      "True\n",
      "False\n",
      "True\n",
      "True\n",
      "False\n",
      "True\n",
      "True\n"
     ]
    }
   ],
   "source": [
    "print('Ananya786'.isalnum()) \n",
    "print('ANANYA786'.isalpha()) \n",
    "print('ananya'.isalpha()) \n",
    "print('ananya'.isdigit()) \n",
    "print('786786'.isdigit()) \n",
    "print('abc'.islower())\n",
    "print('Abc'.islower()) \n",
    "print('abc123'.islower()) \n",
    "print('ABC'.isupper()) \n",
    "print('Learning python is Easy'.istitle())\n",
    "print('Learning Python Is Easy'.istitle())\n",
    "print(' '.isspace()) "
   ]
  },
  {
   "cell_type": "code",
   "execution_count": 33,
   "id": "9fae4df7",
   "metadata": {},
   "outputs": [
    {
     "name": "stdout",
     "output_type": "stream",
     "text": [
      "n\n"
     ]
    }
   ],
   "source": [
    "a='ananya'\n",
    "print(a[-5])"
   ]
  },
  {
   "cell_type": "code",
   "execution_count": 38,
   "id": "7942a83b",
   "metadata": {},
   "outputs": [
    {
     "name": "stdout",
     "output_type": "stream",
     "text": [
      "a\n",
      "anan\n"
     ]
    }
   ],
   "source": [
    "a='ananya'\n",
    "print(a[:-5])\n",
    "print(a[:4])"
   ]
  },
  {
   "cell_type": "code",
   "execution_count": 41,
   "id": "c5b04967",
   "metadata": {},
   "outputs": [
    {
     "name": "stdout",
     "output_type": "stream",
     "text": [
      "['learning', 'Python', 'is', 'very', 'easy']\n"
     ]
    }
   ],
   "source": [
    "a='ananya'\n",
    "print(s.split())"
   ]
  },
  {
   "cell_type": "code",
   "execution_count": 52,
   "id": "7d51d056",
   "metadata": {},
   "outputs": [
    {
     "name": "stdout",
     "output_type": "stream",
     "text": [
      "ananya\n",
      "ysae yrev si nohtyP gninrael\n"
     ]
    }
   ],
   "source": [
    "a='ananya'\n",
    "print (a)\n",
    "print(s[::-1])"
   ]
  },
  {
   "cell_type": "code",
   "execution_count": null,
   "id": "f5245b58",
   "metadata": {},
   "outputs": [],
   "source": []
  }
 ],
 "metadata": {
  "kernelspec": {
   "display_name": "venv",
   "language": "python",
   "name": "python3"
  },
  "language_info": {
   "codemirror_mode": {
    "name": "ipython",
    "version": 3
   },
   "file_extension": ".py",
   "mimetype": "text/x-python",
   "name": "python",
   "nbconvert_exporter": "python",
   "pygments_lexer": "ipython3",
   "version": "3.12.10"
  }
 },
 "nbformat": 4,
 "nbformat_minor": 5
}
