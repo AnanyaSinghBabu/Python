{
 "cells": [
  {
   "cell_type": "markdown",
   "id": "d67e6a67",
   "metadata": {},
   "source": [
    "TUPLE "
   ]
  },
  {
   "cell_type": "code",
   "execution_count": 1,
   "id": "044253c2",
   "metadata": {},
   "outputs": [
    {
     "name": "stdout",
     "output_type": "stream",
     "text": [
      "(10, 20, 30, 40)\n",
      "<class 'tuple'>\n"
     ]
    }
   ],
   "source": [
    "t=10,20,30,40 \n",
    "print(t)  \n",
    "print(type(t))"
   ]
  },
  {
   "cell_type": "code",
   "execution_count": 3,
   "id": "e13fbbee",
   "metadata": {},
   "outputs": [
    {
     "name": "stdout",
     "output_type": "stream",
     "text": [
      "<class 'tuple'>\n",
      "<class 'int'>\n"
     ]
    }
   ],
   "source": [
    "t=23,\n",
    "print(type(t))\n",
    "s=20\n",
    "print(type(s))"
   ]
  },
  {
   "cell_type": "code",
   "execution_count": 5,
   "id": "79a07218",
   "metadata": {},
   "outputs": [
    {
     "name": "stdout",
     "output_type": "stream",
     "text": [
      "10\n",
      "60\n"
     ]
    }
   ],
   "source": [
    "#by using index\n",
    "t=(10,20,30,40,50,60) \n",
    "print(t[0])\n",
    "print(t[-1])"
   ]
  },
  {
   "cell_type": "code",
   "execution_count": 8,
   "id": "2acc6756",
   "metadata": {},
   "outputs": [
    {
     "name": "stdout",
     "output_type": "stream",
     "text": [
      "(30, 40, 50)\n",
      "(30, 40, 50, 60)\n",
      "(10, 30, 50)\n"
     ]
    }
   ],
   "source": [
    "# by using slice operator\n",
    "t=(10,20,30,40,50,60) \n",
    "print(t[2:5])\n",
    "print(t[2:100])\n",
    "print(t[::2])"
   ]
  },
  {
   "cell_type": "markdown",
   "id": "ce320ee8",
   "metadata": {},
   "source": [
    "Mathematical operators for tuple:"
   ]
  },
  {
   "cell_type": "code",
   "execution_count": null,
   "id": "e656aaf6",
   "metadata": {},
   "outputs": [
    {
     "name": "stdout",
     "output_type": "stream",
     "text": [
      "(10, 20, 30, 40, 50, 60)\n"
     ]
    }
   ],
   "source": [
    "# Concatenation Operator(+)\n",
    "t1=(10,20,30) \n",
    "t2=(40,50,60) \n",
    "t3=t1+t2 \n",
    "print(t3)\n",
    "\n"
   ]
  },
  {
   "cell_type": "code",
   "execution_count": 10,
   "id": "0c5a7371",
   "metadata": {},
   "outputs": [
    {
     "name": "stdout",
     "output_type": "stream",
     "text": [
      "(10, 20, 30, 10, 20, 30, 10, 20, 30)\n"
     ]
    }
   ],
   "source": [
    "#Multiplication operator or repetition operator(*) \n",
    "t1=(10,20,30) \n",
    "t2=t1*3 \n",
    "print(t2)"
   ]
  },
  {
   "cell_type": "code",
   "execution_count": 13,
   "id": "c9426a31",
   "metadata": {},
   "outputs": [
    {
     "name": "stdout",
     "output_type": "stream",
     "text": [
      "5\n"
     ]
    }
   ],
   "source": [
    "s=(1,2,4,5,6)\n",
    "print (len(s))"
   ]
  },
  {
   "cell_type": "code",
   "execution_count": 14,
   "id": "bc3effe0",
   "metadata": {},
   "outputs": [
    {
     "name": "stdout",
     "output_type": "stream",
     "text": [
      "3\n"
     ]
    }
   ],
   "source": [
    "r=(10,20,10,10,20) \n",
    "print(r.count(10))"
   ]
  },
  {
   "cell_type": "code",
   "execution_count": 16,
   "id": "7a44f477",
   "metadata": {},
   "outputs": [
    {
     "name": "stdout",
     "output_type": "stream",
     "text": [
      "[10, 20, 30, 40]\n",
      "10\n",
      "40\n"
     ]
    }
   ],
   "source": [
    "# sorted()\n",
    "t=(40,10,30,20) \n",
    "t1=sorted(t) \n",
    "print(t1)\n",
    "#min()and max()\n",
    "print(min(t)) \n",
    "print(max(t)) \n"
   ]
  }
 ],
 "metadata": {
  "kernelspec": {
   "display_name": "venv",
   "language": "python",
   "name": "python3"
  },
  "language_info": {
   "codemirror_mode": {
    "name": "ipython",
    "version": 3
   },
   "file_extension": ".py",
   "mimetype": "text/x-python",
   "name": "python",
   "nbconvert_exporter": "python",
   "pygments_lexer": "ipython3",
   "version": "3.12.10"
  }
 },
 "nbformat": 4,
 "nbformat_minor": 5
}
