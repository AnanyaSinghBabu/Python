{
 "cells": [
  {
   "cell_type": "markdown",
   "id": "08b17aea",
   "metadata": {},
   "source": [
    "LIST"
   ]
  },
  {
   "cell_type": "code",
   "execution_count": 5,
   "id": "683032ca",
   "metadata": {},
   "outputs": [
    {
     "name": "stdout",
     "output_type": "stream",
     "text": [
      "['apple', 'banana', 'cherry']\n",
      "[1, 2, 3, 4, 5]\n",
      "apple\n"
     ]
    }
   ],
   "source": [
    "fruits = [\"apple\", \"banana\", \"cherry\"]\n",
    "numbers = [1, 2, 3, 4, 5]\n",
    "print(fruits)\n",
    "print(numbers)\n",
    "print(fruits[0])"
   ]
  },
  {
   "cell_type": "code",
   "execution_count": 11,
   "id": "9dcae317",
   "metadata": {},
   "outputs": [
    {
     "name": "stdout",
     "output_type": "stream",
     "text": [
      "5\n",
      "apple\n",
      "cherry\n"
     ]
    }
   ],
   "source": [
    "print(numbers[4])\n",
    "print(fruits[-3])\n",
    "print(fruits[2])"
   ]
  },
  {
   "cell_type": "markdown",
   "id": "740e5eb4",
   "metadata": {},
   "source": [
    "CHANGING LIST"
   ]
  },
  {
   "cell_type": "code",
   "execution_count": 13,
   "id": "ff7865d0",
   "metadata": {},
   "outputs": [
    {
     "name": "stdout",
     "output_type": "stream",
     "text": [
      "['apple', 'banana', 'orange']\n"
     ]
    }
   ],
   "source": [
    "fruits=[\"apple\", \"banana\", \"cherry\"]\n",
    "fruits[2]='orange'\n",
    "print(fruits)"
   ]
  },
  {
   "cell_type": "code",
   "execution_count": 17,
   "id": "97e340d9",
   "metadata": {},
   "outputs": [
    {
     "name": "stdout",
     "output_type": "stream",
     "text": [
      "['apple', 'orange', 'apple', 'orange', 'grape']\n"
     ]
    }
   ],
   "source": [
    "fruits[1]='orange'\n",
    "print(fruits)"
   ]
  },
  {
   "cell_type": "markdown",
   "id": "26128eb4",
   "metadata": {},
   "source": [
    "LIST OPERATION\n",
    "\n",
    "append()-adds item at the end\n",
    "\n",
    "insert()-adds item at specific position\n",
    "\n",
    "\n"
   ]
  },
  {
   "cell_type": "code",
   "execution_count": 18,
   "id": "7782fe62",
   "metadata": {},
   "outputs": [
    {
     "name": "stdout",
     "output_type": "stream",
     "text": [
      "['apple', 'mango', 'orange', 'apple', 'orange', 'grape', 'grape']\n"
     ]
    }
   ],
   "source": [
    "fruits.append(\"grape\")\n",
    "fruits.insert(1, \"mango\")\n",
    "print(fruits)  "
   ]
  },
  {
   "cell_type": "code",
   "execution_count": 19,
   "id": "fdd4a0c2",
   "metadata": {},
   "outputs": [
    {
     "name": "stdout",
     "output_type": "stream",
     "text": [
      "['ANANYA', 'PRATIK', 'ANJALI', 'SUBRAT']\n"
     ]
    }
   ],
   "source": [
    "name=[\"ANANYA\",\"PRATIK\",\"ANJALI\",\"SUBRAT\"]\n",
    "print(name)"
   ]
  },
  {
   "cell_type": "code",
   "execution_count": 20,
   "id": "02ae9632",
   "metadata": {},
   "outputs": [
    {
     "name": "stdout",
     "output_type": "stream",
     "text": [
      "['ANANYA', 'PRATIK', 'ANJALI', 'SUBRAT', 'rahul']\n"
     ]
    }
   ],
   "source": [
    "name.append(\"rahul\")\n",
    "print(name)"
   ]
  },
  {
   "cell_type": "code",
   "execution_count": 21,
   "id": "5d3e93ac",
   "metadata": {},
   "outputs": [
    {
     "name": "stdout",
     "output_type": "stream",
     "text": [
      "['ANANYA', 'PRATIK', 'dev', 'ANJALI', 'SUBRAT', 'rahul']\n"
     ]
    }
   ],
   "source": [
    "name.insert(2,\"dev\")\n",
    "print(name)"
   ]
  },
  {
   "cell_type": "code",
   "execution_count": null,
   "id": "43c93b16",
   "metadata": {},
   "outputs": [
    {
     "name": "stdout",
     "output_type": "stream",
     "text": [
      "['ANANYA', 'PRATIK', 'ram', 'dev', 'ANJALI', 'SUBRAT', 'rahul']\n"
     ]
    }
   ],
   "source": [
    "name.insert(2,\"ram\")\n",
    "print(name)"
   ]
  },
  {
   "cell_type": "code",
   "execution_count": 30,
   "id": "435f7d74",
   "metadata": {},
   "outputs": [
    {
     "name": "stdout",
     "output_type": "stream",
     "text": [
      "7\n",
      "0\n"
     ]
    }
   ],
   "source": [
    "print (len(name))\n",
    "print(name.count(5))"
   ]
  },
  {
   "cell_type": "code",
   "execution_count": 31,
   "id": "1c5a417a",
   "metadata": {},
   "outputs": [
    {
     "name": "stdout",
     "output_type": "stream",
     "text": [
      "['ANANYA', 'PRATIK', 'ram', 'dev', 'ANJALI', 'SUBRAT', 'rahul']\n"
     ]
    }
   ],
   "source": [
    "name=['ANANYA', 'PRATIK', 'ram', 'dev', 'ANJALI', 'SUBRAT', 'rahul']\n",
    "print(name)"
   ]
  },
  {
   "cell_type": "code",
   "execution_count": 33,
   "id": "3cc5a831",
   "metadata": {},
   "outputs": [
    {
     "name": "stdout",
     "output_type": "stream",
     "text": [
      "['ANANYA', 'PRATIK', 'ram', 'ram', 'ram', 'dev', 'ANJALI', 'SUBRAT', 'rahul']\n"
     ]
    }
   ],
   "source": [
    "name.insert(2,\"ram\")\n",
    "print(name)"
   ]
  },
  {
   "cell_type": "code",
   "execution_count": 50,
   "id": "1f66d130",
   "metadata": {},
   "outputs": [
    {
     "name": "stdout",
     "output_type": "stream",
     "text": [
      "['Chicken', 'Mutton', 'Fish', 'pepsi', 'sprite', 'appy']\n"
     ]
    }
   ],
   "source": [
    "#extend\n",
    "o1=[\"Chicken\",\"Mutton\",\"Fish\"] \n",
    "o2=[\"pepsi\",\"sprite\",\"appy\"] \n",
    "o1.extend(o2) \n",
    "print(o1) "
   ]
  },
  {
   "cell_type": "code",
   "execution_count": 54,
   "id": "acda4074",
   "metadata": {},
   "outputs": [
    {
     "name": "stdout",
     "output_type": "stream",
     "text": [
      "['Chicken', 'Mutton', 'Fish', 'M', 'u', 's', 'h', 'r', 'o', 'o', 'm']\n"
     ]
    }
   ],
   "source": [
    "o1=[\"Chicken\",\"Mutton\",\"Fish\"] \n",
    "o1.extend(\"Mushroom\") \n",
    "print(o1)"
   ]
  },
  {
   "cell_type": "code",
   "execution_count": 55,
   "id": "6fd363a8",
   "metadata": {},
   "outputs": [
    {
     "name": "stdout",
     "output_type": "stream",
     "text": [
      "['Chicken', 'Mutton', 'Fish', 'Mushroom']\n"
     ]
    }
   ],
   "source": [
    "o1=[\"Chicken\",\"Mutton\",\"Fish\"] \n",
    "o1.append(\"Mushroom\") \n",
    "print(o1)"
   ]
  },
  {
   "cell_type": "code",
   "execution_count": null,
   "id": "a474d8b0",
   "metadata": {},
   "outputs": [
    {
     "name": "stdout",
     "output_type": "stream",
     "text": [
      "3\n",
      "1\n"
     ]
    }
   ],
   "source": [
    "#count\n",
    "a =  [\"s\",\"d\",\"d\",\"r\",\"d\"]    \n",
    "print(a.count(\"d\"))\n",
    "print(a.count(\"s\"))"
   ]
  },
  {
   "cell_type": "code",
   "execution_count": null,
   "id": "08909b4d",
   "metadata": {},
   "outputs": [
    {
     "name": "stdout",
     "output_type": "stream",
     "text": [
      "5\n",
      "0\n"
     ]
    }
   ],
   "source": [
    "# index value\n",
    "n=[1,2,2,2,2,3,3]\n",
    "print(n.index(3))\n",
    "print(n.index(1))"
   ]
  },
  {
   "cell_type": "code",
   "execution_count": 58,
   "id": "041a0079",
   "metadata": {},
   "outputs": [
    {
     "name": "stdout",
     "output_type": "stream",
     "text": [
      "[20, 10, 30]\n"
     ]
    }
   ],
   "source": [
    "# remove\n",
    "n=[10,20,10,30] \n",
    "n.remove(10) \n",
    "print(n)\n",
    " "
   ]
  },
  {
   "cell_type": "code",
   "execution_count": 59,
   "id": "0ee08481",
   "metadata": {},
   "outputs": [
    {
     "name": "stdout",
     "output_type": "stream",
     "text": [
      "40\n",
      "30\n",
      "[10, 20]\n"
     ]
    }
   ],
   "source": [
    "#pop \n",
    "n=[10,20,30,40] \n",
    "print(n.pop()) \n",
    "print(n.pop()) \n",
    "print(n)\n"
   ]
  },
  {
   "cell_type": "code",
   "execution_count": 60,
   "id": "f9407ddb",
   "metadata": {},
   "outputs": [
    {
     "name": "stdout",
     "output_type": "stream",
     "text": [
      "[40, 30, 20, 10]\n"
     ]
    }
   ],
   "source": [
    "# reverse\n",
    "n=[10,20,30,40] \n",
    "n.reverse() \n",
    "print(n) "
   ]
  },
  {
   "cell_type": "code",
   "execution_count": 61,
   "id": "5bc94af2",
   "metadata": {},
   "outputs": [
    {
     "name": "stdout",
     "output_type": "stream",
     "text": [
      "[0, 5, 10, 15, 20]\n"
     ]
    }
   ],
   "source": [
    "#sort\n",
    "n=[20,5,15,10,0] \n",
    "n.sort() \n",
    "print(n) "
   ]
  },
  {
   "cell_type": "code",
   "execution_count": 62,
   "id": "bd7108a3",
   "metadata": {},
   "outputs": [
    {
     "name": "stdout",
     "output_type": "stream",
     "text": [
      "['ananya', 'badal', 'dev', 'payal']\n"
     ]
    }
   ],
   "source": [
    "s=[\"ananya\",\"payal\",\"badal\",\"dev\"]\n",
    "s.sort()\n",
    "print(s)"
   ]
  },
  {
   "cell_type": "markdown",
   "id": "eb63a18f",
   "metadata": {},
   "source": [
    "NESTED LISTS\n",
    "\n",
    "Sometimes we can take one list inside another list. Such type of lists are called nested lists. "
   ]
  },
  {
   "cell_type": "code",
   "execution_count": 68,
   "id": "3b518e32",
   "metadata": {},
   "outputs": [
    {
     "name": "stdout",
     "output_type": "stream",
     "text": [
      "[10, 20, [30, 40]]\n",
      "10\n",
      "[30, 40]\n",
      "30\n"
     ]
    }
   ],
   "source": [
    "n=[10,20,[30,40]] \n",
    "print(n) \n",
    "print(n[0])\n",
    "print(n[2])\n",
    "print(n[2][0])"
   ]
  },
  {
   "cell_type": "code",
   "execution_count": null,
   "id": "1e11510b",
   "metadata": {},
   "outputs": [],
   "source": []
  }
 ],
 "metadata": {
  "kernelspec": {
   "display_name": "venv",
   "language": "python",
   "name": "python3"
  },
  "language_info": {
   "codemirror_mode": {
    "name": "ipython",
    "version": 3
   },
   "file_extension": ".py",
   "mimetype": "text/x-python",
   "name": "python",
   "nbconvert_exporter": "python",
   "pygments_lexer": "ipython3",
   "version": "3.12.10"
  }
 },
 "nbformat": 4,
 "nbformat_minor": 5
}
