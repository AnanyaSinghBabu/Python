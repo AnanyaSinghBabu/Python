{
 "cells": [
  {
   "cell_type": "markdown",
   "id": "03c54e2e",
   "metadata": {},
   "source": [
    "DICTIONARY"
   ]
  },
  {
   "cell_type": "code",
   "execution_count": 4,
   "id": "530b78a2",
   "metadata": {},
   "outputs": [
    {
     "name": "stdout",
     "output_type": "stream",
     "text": [
      "Ananya\n",
      "Data Analytics\n"
     ]
    }
   ],
   "source": [
    "dict = {\n",
    "    \"name\": \"Ananya\",\n",
    "    \"age\": 21,\n",
    "    \"course\": \"Data Analytics\"\n",
    "}\n",
    "print(dict[\"name\"])\n",
    "print(dict[\"course\"])\n"
   ]
  },
  {
   "cell_type": "code",
   "execution_count": 2,
   "id": "cf9993bd",
   "metadata": {},
   "outputs": [
    {
     "name": "stdout",
     "output_type": "stream",
     "text": [
      "{1: 'ananya', 2: 'pratik', 3: 'anjali'}\n"
     ]
    }
   ],
   "source": [
    "dict = {\n",
    " 1: \"ananya\",\n",
    " 2: \"pratik\",\n",
    " 3:\"anjali\"\n",
    "}\n",
    "print(dict)"
   ]
  },
  {
   "cell_type": "code",
   "execution_count": 3,
   "id": "f8acffec",
   "metadata": {},
   "outputs": [
    {
     "name": "stdout",
     "output_type": "stream",
     "text": [
      "{1: 'ananya', 2: 'pratik'}\n"
     ]
    }
   ],
   "source": [
    "del dict[3]\n",
    "print(dict)"
   ]
  },
  {
   "cell_type": "code",
   "execution_count": 4,
   "id": "50475594",
   "metadata": {},
   "outputs": [
    {
     "name": "stdout",
     "output_type": "stream",
     "text": [
      "{1: 'ananya', 2: 'pratik', 3: 'ram'}\n"
     ]
    }
   ],
   "source": [
    "# update \n",
    "dict[3]=\"ram\"\n",
    "print(dict)"
   ]
  },
  {
   "cell_type": "code",
   "execution_count": null,
   "id": "d3609615",
   "metadata": {},
   "outputs": [],
   "source": []
  }
 ],
 "metadata": {
  "kernelspec": {
   "display_name": "venv",
   "language": "python",
   "name": "python3"
  },
  "language_info": {
   "codemirror_mode": {
    "name": "ipython",
    "version": 3
   },
   "file_extension": ".py",
   "mimetype": "text/x-python",
   "name": "python",
   "nbconvert_exporter": "python",
   "pygments_lexer": "ipython3",
   "version": "3.12.10"
  }
 },
 "nbformat": 4,
 "nbformat_minor": 5
}
