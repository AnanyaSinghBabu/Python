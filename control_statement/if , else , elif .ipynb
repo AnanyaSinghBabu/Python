{
 "cells": [
  {
   "cell_type": "code",
   "execution_count": null,
   "id": "bed56360",
   "metadata": {},
   "outputs": [
    {
     "name": "stdout",
     "output_type": "stream",
     "text": [
      "a is positive.\n"
     ]
    }
   ],
   "source": [
    "# USING 'if' STATEMENTS\n",
    "a=10\n",
    "if a > 0:\n",
    "    print(\"a is positive.\")"
   ]
  },
  {
   "cell_type": "code",
   "execution_count": 5,
   "id": "0e5559a6",
   "metadata": {},
   "outputs": [
    {
     "name": "stdout",
     "output_type": "stream",
     "text": [
      "a is negative\n"
     ]
    }
   ],
   "source": [
    "a=-3\n",
    "if a<0:\n",
    "    print(\"a is negative\")"
   ]
  },
  {
   "cell_type": "code",
   "execution_count": 5,
   "id": "e91ba82f",
   "metadata": {},
   "outputs": [
    {
     "name": "stdout",
     "output_type": "stream",
     "text": [
      "age is less than 20.\n"
     ]
    }
   ],
   "source": [
    "# USEING \"if-else\" STATEMENT\n",
    "age=20\n",
    "if age > 50:\n",
    "    print(\"age is more than 20.\")\n",
    "else: \n",
    "    print(\"age is less than 20.\")\n"
   ]
  },
  {
   "cell_type": "code",
   "execution_count": 6,
   "id": "85e74b38",
   "metadata": {},
   "outputs": [
    {
     "name": "stdout",
     "output_type": "stream",
     "text": [
      "a is zero.\n"
     ]
    }
   ],
   "source": [
    "# USING 'if-elif-else' STATEMENT\n",
    "a=0\n",
    "\n",
    "if a > 0:\n",
    "    print(\"a is positive.\")\n",
    "elif a == 0:\n",
    "    print(\"a is zero.\")\n",
    "else:\n",
    "    print(\"a is negative.\")\n",
    "\n"
   ]
  },
  {
   "cell_type": "code",
   "execution_count": null,
   "id": "0e2ab2b0",
   "metadata": {},
   "outputs": [
    {
     "name": "stdout",
     "output_type": "stream",
     "text": [
      "weight is same.\n"
     ]
    }
   ],
   "source": [
    "weight=50\n",
    "if weight < 50:\n",
    "    print(\"less than 50.\")\n",
    "elif weight == 50:\n",
    "    print(\"weight is same.\")\n",
    "else:\n",
    "    print(\"more than 50.\")\n"
   ]
  },
  {
   "cell_type": "code",
   "execution_count": 10,
   "id": "eeeff484",
   "metadata": {},
   "outputs": [
    {
     "name": "stdout",
     "output_type": "stream",
     "text": [
      "a is positive even number\n"
     ]
    }
   ],
   "source": [
    "# USING NESTED 'if' STATEMENT\n",
    "a=20\n",
    "\n",
    "if a > 0:\n",
    "    if a % 2 == 0:\n",
    "        print(\"a is positive even number\")\n",
    "    else:\n",
    "        print(\"a is positive odd number.\")\n",
    "else:\n",
    "        print(\"a is non-positive.\")\n"
   ]
  },
  {
   "cell_type": "code",
   "execution_count": 12,
   "id": "e83e8a01",
   "metadata": {},
   "outputs": [
    {
     "name": "stdout",
     "output_type": "stream",
     "text": [
      "a is a positive even number.\n"
     ]
    }
   ],
   "source": [
    "# USING MULTIPLE CONDITION IN A SINGLE STATEMENT\n",
    "a = 34\n",
    "\n",
    "if a > 0 and a % 2 == 0:\n",
    "    print(\"a is a positive even number.\")\n",
    "elif a > 0 and a % 2 != 0:\n",
    "    print(\"a is a positive odd number.\")\n",
    "else:\n",
    "    print(\"a is non-positive.\")"
   ]
  },
  {
   "cell_type": "code",
   "execution_count": 2,
   "id": "8f8454bc",
   "metadata": {},
   "outputs": [
    {
     "name": "stdout",
     "output_type": "stream",
     "text": [
      "a is positive\n"
     ]
    }
   ],
   "source": [
    "# Example of using conditional expressions\n",
    "a = 10\n",
    "\n",
    "# If a is greater than 0, assign 'positive' to result; otherwise, assign 'non-positive'\n",
    "\n",
    "result = 'positive' if a > 0 else 'non-positive'\n",
    "print(\"a is\", result)"
   ]
  },
  {
   "cell_type": "code",
   "execution_count": null,
   "id": "fd4a003f",
   "metadata": {},
   "outputs": [
    {
     "name": "stdout",
     "output_type": "stream",
     "text": [
      "a is non-positive\n"
     ]
    }
   ],
   "source": [
    "a = 40\n",
    "result = 'positive'if a<20 else 'non-positive'\n",
    "print(\"a is\",result)"
   ]
  },
  {
   "cell_type": "code",
   "execution_count": 5,
   "id": "34f54aff",
   "metadata": {},
   "outputs": [
    {
     "name": "stdout",
     "output_type": "stream",
     "text": [
      "3 is present in the list.\n"
     ]
    }
   ],
   "source": [
    "# using 'in' operator in a conditional statement\n",
    "lst= [1, 2, 3, 4, 5]\n",
    "\n",
    "if 3 in lst:\n",
    "    print(\"3 is present in the list.\")"
   ]
  },
  {
   "cell_type": "code",
   "execution_count": 6,
   "id": "10d03bc1",
   "metadata": {},
   "outputs": [
    {
     "name": "stdout",
     "output_type": "stream",
     "text": [
      "ram is not presetnt.\n"
     ]
    }
   ],
   "source": [
    "lst=['ananya','pratik','anjali','subrat']\n",
    "\n",
    "if 'ram' in lst:\n",
    "    print(\"ram is present in the list.\")\n",
    "else:\n",
    "    print(\"ram is not presetnt.\")"
   ]
  },
  {
   "cell_type": "code",
   "execution_count": 7,
   "id": "ee42f7e0",
   "metadata": {},
   "outputs": [
    {
     "name": "stdout",
     "output_type": "stream",
     "text": [
      "The string contains 'world'.\n"
     ]
    }
   ],
   "source": [
    "# Example of checking if a string contains a substring\n",
    "str = \"Hello, world!\"\n",
    "\n",
    "if \"world\" in str:\n",
    "    print(\"The string contains 'world'.\") \n",
    "else:\n",
    "    print(\"the string does not contain 'world'.\")"
   ]
  },
  {
   "cell_type": "code",
   "execution_count": 8,
   "id": "ab6768d6",
   "metadata": {},
   "outputs": [
    {
     "name": "stdout",
     "output_type": "stream",
     "text": [
      "Even numbers: [2, 4]\n"
     ]
    }
   ],
   "source": [
    "# using conditional statements inside list comprehensions\n",
    "numbers = [1, 2, 3, 4, 5]\n",
    "\n",
    "# Create a new list containing only even numbers from the original list\n",
    "even_numbers = [x for x in numbers if x % 2 == 0]\n",
    "print(\"Even numbers:\", even_numbers)"
   ]
  },
  {
   "cell_type": "code",
   "execution_count": 9,
   "id": "059ba131",
   "metadata": {},
   "outputs": [
    {
     "name": "stdout",
     "output_type": "stream",
     "text": [
      "John is an adult.\n"
     ]
    }
   ],
   "source": [
    "# using conditional statements with dictionaries\n",
    "person = {\n",
    "    \"name\": \"John\",\n",
    "    \"age\": 30,\n",
    "    \"gender\": \"male\"\n",
    "}\n",
    "\n",
    "# Check if the person is an adult\n",
    "if person[\"age\"] >= 18:\n",
    "    print(person[\"name\"], \"is an adult.\")\n",
    "else:\n",
    "    print(person[\"name\"], \"is not an adult yet.\")"
   ]
  },
  {
   "cell_type": "code",
   "execution_count": 10,
   "id": "51bab740",
   "metadata": {},
   "outputs": [
    {
     "name": "stdout",
     "output_type": "stream",
     "text": [
      "At least one element in the list is True.\n",
      "Not all elements in the list are True.\n"
     ]
    }
   ],
   "source": [
    "# using any() and all() with conditional statements\n",
    "lst = [True, False, True, True]\n",
    "\n",
    "# Check if any element in the list is True\n",
    "if any(lst):\n",
    "    print(\"At least one element in the list is True.\")\n",
    "\n",
    "# Check if all elements in the list are True\n",
    "if all(lst):\n",
    "    print(\"All elements in the list are True.\")\n",
    "else:\n",
    "    print(\"Not all elements in the list are True.\")"
   ]
  },
  {
   "cell_type": "code",
   "execution_count": 12,
   "id": "51f500b0",
   "metadata": {},
   "outputs": [
    {
     "name": "stdout",
     "output_type": "stream",
     "text": [
      "At least one element in the list is 1.\n",
      "All elements in the list are 2.\n"
     ]
    }
   ],
   "source": [
    "lst = [1,2,3,4,2,5,6,2,4,1,3]\n",
    "\n",
    "# Check if any element in the list is 1\n",
    "if any(lst):\n",
    "    print(\"At least one element in the list is 1.\")\n",
    "\n",
    "# Check if all elements in the list are 2\n",
    "if all(lst):\n",
    "    print(\"All elements in the list are 2.\")\n",
    "else:\n",
    "    print(\"Not all elements in the list are 2.\")"
   ]
  },
  {
   "cell_type": "code",
   "execution_count": 14,
   "id": "f10bc38f",
   "metadata": {},
   "outputs": [
    {
     "name": "stdout",
     "output_type": "stream",
     "text": [
      "Fruit at index 1: banana\n"
     ]
    }
   ],
   "source": [
    "# using conditional statements with enumerate()\n",
    "fruits = [\"apple\", \"banana\", \"cherry\", \"date\"]\n",
    "\n",
    "# Print the index and fruit name for fruits starting with 'b'\n",
    "for idx, fruit in enumerate(fruits):\n",
    "    if fruit.startswith('b'):\n",
    "        print(f\"Fruit at index {idx}: {fruit}\")"
   ]
  },
  {
   "cell_type": "code",
   "execution_count": 15,
   "id": "dc983399",
   "metadata": {},
   "outputs": [
    {
     "name": "stdout",
     "output_type": "stream",
     "text": [
      "name is not there.\n",
      "name is not there.\n",
      "name is not there.\n",
      "name is not there.\n"
     ]
    }
   ],
   "source": [
    "names = [\"ananya\",\"anjali\",\"pratik\",\"subrat\"]\n",
    "\n",
    "# Print the index and fruit name for fruits starting with 'b'\n",
    "for idx, name in enumerate(names):\n",
    "    if name.startswith('b'):\n",
    "        print(f\"name at index {idx}: {name}\")\n",
    "    else:\n",
    "        print(\"name is not there.\")"
   ]
  },
  {
   "cell_type": "code",
   "execution_count": 18,
   "id": "f5748004",
   "metadata": {},
   "outputs": [
    {
     "name": "stdout",
     "output_type": "stream",
     "text": [
      "name at index 0: ananya\n",
      "name at index 1: anjali\n",
      "name is not there.\n",
      "name is not there.\n"
     ]
    }
   ],
   "source": [
    "names = [\"ananya\",\"anjali\",\"pratik\",\"subrat\"]\n",
    "\n",
    "# Print the index and fruit name for fruits starting with 'b'\n",
    "for idx, name in enumerate(names):\n",
    "    if name.startswith('a'):\n",
    "        print(f\"name at index {idx}: {name}\")\n",
    "    else:\n",
    "        print(\"name is not there.\")"
   ]
  },
  {
   "cell_type": "code",
   "execution_count": 19,
   "id": "37291571",
   "metadata": {},
   "outputs": [
    {
     "name": "stdout",
     "output_type": "stream",
     "text": [
      "0 is even.\n",
      "1 is odd.\n",
      "2 is even.\n",
      "3 is odd.\n",
      "4 is even.\n",
      "5 is odd.\n",
      "6 is even.\n",
      "7 is odd.\n",
      "8 is even.\n",
      "9 is odd.\n"
     ]
    }
   ],
   "source": [
    "# using conditional statements with range()\n",
    "for name in range(10):\n",
    "    if name % 2 == 0:\n",
    "        print(f\"{name} is even.\")\n",
    "    else:\n",
    "        print(f\"{name} is odd.\")"
   ]
  },
  {
   "cell_type": "code",
   "execution_count": 20,
   "id": "07c2567f",
   "metadata": {},
   "outputs": [
    {
     "name": "stdout",
     "output_type": "stream",
     "text": [
      "All numbers in the list are even.\n",
      "All numbers in the list are multiples of 2.\n"
     ]
    }
   ],
   "source": [
    "# using any() and all() functions with conditional statements\n",
    "numbers = [200, 400, 600, 800, 100]\n",
    "\n",
    "# Check if any number in the list is odd\n",
    "if any(num % 2 != 0 for num in numbers):\n",
    "    print(\"At least one number in the list is odd.\")\n",
    "else:\n",
    "    print(\"All numbers in the list are even.\")\n",
    "\n",
    "# Check if all numbers in the list are multiples of 2\n",
    "if all(num % 2 == 0 for num in numbers):\n",
    "    print(\"All numbers in the list are multiples of 2.\")\n",
    "else:\n",
    "    print(\"Not all numbers in the list are multiples of 2.\")"
   ]
  },
  {
   "cell_type": "code",
   "execution_count": null,
   "id": "63a4910b",
   "metadata": {},
   "outputs": [],
   "source": []
  }
 ],
 "metadata": {
  "kernelspec": {
   "display_name": "venv",
   "language": "python",
   "name": "python3"
  },
  "language_info": {
   "codemirror_mode": {
    "name": "ipython",
    "version": 3
   },
   "file_extension": ".py",
   "mimetype": "text/x-python",
   "name": "python",
   "nbconvert_exporter": "python",
   "pygments_lexer": "ipython3",
   "version": "3.12.10"
  }
 },
 "nbformat": 4,
 "nbformat_minor": 5
}
