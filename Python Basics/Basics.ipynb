{
 "cells": [
  {
   "cell_type": "code",
   "execution_count": 7,
   "id": "c818e7ec",
   "metadata": {},
   "outputs": [
    {
     "name": "stdout",
     "output_type": "stream",
     "text": [
      "data analyst\n"
     ]
    }
   ],
   "source": [
    "print('data analyst')"
   ]
  },
  {
   "cell_type": "code",
   "execution_count": 8,
   "id": "6bdc9bf7",
   "metadata": {},
   "outputs": [
    {
     "name": "stdout",
     "output_type": "stream",
     "text": [
      "30\n"
     ]
    }
   ],
   "source": [
    "a=20\n",
    "b=10\n",
    "print(a+b)"
   ]
  },
  {
   "cell_type": "code",
   "execution_count": 9,
   "id": "fd14d345",
   "metadata": {},
   "outputs": [
    {
     "name": "stdout",
     "output_type": "stream",
     "text": [
      "addition of 56 + 38 is:  94\n"
     ]
    }
   ],
   "source": [
    "a=56\n",
    "b=38\n",
    "print(f\"addition of {a} + {b} is: \", a+b)"
   ]
  },
  {
   "cell_type": "code",
   "execution_count": 10,
   "id": "bfd9ff43",
   "metadata": {},
   "outputs": [
    {
     "name": "stdout",
     "output_type": "stream",
     "text": [
      "83\n"
     ]
    }
   ],
   "source": [
    "a=30\n",
    "b=98\n",
    "c=45\n",
    "print(a+b-c)\n"
   ]
  },
  {
   "cell_type": "code",
   "execution_count": 11,
   "id": "cc022432",
   "metadata": {},
   "outputs": [
    {
     "name": "stdout",
     "output_type": "stream",
     "text": [
      "9.23076923076923\n"
     ]
    }
   ],
   "source": [
    "b=45\n",
    "n=8\n",
    "k=39\n",
    "print(b*n/k)"
   ]
  },
  {
   "cell_type": "code",
   "execution_count": 12,
   "id": "23d2b971",
   "metadata": {},
   "outputs": [
    {
     "name": "stdout",
     "output_type": "stream",
     "text": [
      "DIvision IS 39/16 is:  2.4375\n"
     ]
    }
   ],
   "source": [
    "y=39\n",
    "z=16\n",
    "print(f\"DIvision IS {y}/{z} is: \", y/z)"
   ]
  },
  {
   "cell_type": "code",
   "execution_count": 13,
   "id": "9ba66347",
   "metadata": {},
   "outputs": [
    {
     "name": "stdout",
     "output_type": "stream",
     "text": [
      "10\n"
     ]
    }
   ],
   "source": [
    "e=50\n",
    "s=20\n",
    "print(e%s)"
   ]
  },
  {
   "cell_type": "code",
   "execution_count": 14,
   "id": "ffdb9446",
   "metadata": {},
   "outputs": [
    {
     "name": "stdout",
     "output_type": "stream",
     "text": [
      "9536743164062500000000000000000000\n"
     ]
    }
   ],
   "source": [
    "e=50\n",
    "s=20\n",
    "print(e**s)"
   ]
  },
  {
   "cell_type": "code",
   "execution_count": null,
   "id": "e96c45c3",
   "metadata": {},
   "outputs": [],
   "source": []
  }
 ],
 "metadata": {
  "kernelspec": {
   "display_name": "venv",
   "language": "python",
   "name": "python3"
  },
  "language_info": {
   "codemirror_mode": {
    "name": "ipython",
    "version": 3
   },
   "file_extension": ".py",
   "mimetype": "text/x-python",
   "name": "python",
   "nbconvert_exporter": "python",
   "pygments_lexer": "ipython3",
   "version": "3.12.10"
  }
 },
 "nbformat": 4,
 "nbformat_minor": 5
}
