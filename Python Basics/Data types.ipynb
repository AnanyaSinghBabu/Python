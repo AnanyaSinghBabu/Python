{
 "cells": [
  {
   "cell_type": "markdown",
   "id": "4e3f65ae",
   "metadata": {},
   "source": [
    "DATA TYPES\n",
    "\n",
    "1.int \n",
    "\n",
    "2.float\n",
    "\n",
    "3.complex\n",
    "\n",
    "4.bool\n",
    "\n",
    "5.str\n",
    "\n",
    "6.byte\n",
    "\n",
    "7.bytearray\n",
    "\n",
    "8.range\n",
    "\n",
    "9.list\n",
    "\n",
    "10.tuple\n",
    "\n",
    "11.set\n",
    "\n",
    "12.frozenset\n",
    "\n",
    "13.dict"
   ]
  },
  {
   "cell_type": "markdown",
   "id": "275c2b5f",
   "metadata": {},
   "source": [
    "INT"
   ]
  },
  {
   "cell_type": "code",
   "execution_count": 14,
   "id": "441e1f59",
   "metadata": {},
   "outputs": [
    {
     "name": "stdout",
     "output_type": "stream",
     "text": [
      "4\n",
      "<class 'int'>\n"
     ]
    }
   ],
   "source": [
    "a =4\n",
    "print(a)\n",
    "print (type(a))"
   ]
  },
  {
   "cell_type": "markdown",
   "id": "111883b9",
   "metadata": {},
   "source": [
    "FLOAT"
   ]
  },
  {
   "cell_type": "code",
   "execution_count": 16,
   "id": "fbb2bddd",
   "metadata": {},
   "outputs": [
    {
     "name": "stdout",
     "output_type": "stream",
     "text": [
      "2.3\n",
      "<class 'float'>\n"
     ]
    }
   ],
   "source": [
    "a =2.3\n",
    "print(a)\n",
    "print (type(a))"
   ]
  },
  {
   "cell_type": "markdown",
   "id": "802f8ed1",
   "metadata": {},
   "source": [
    "COMPLEX"
   ]
  },
  {
   "cell_type": "code",
   "execution_count": 21,
   "id": "302d8fb4",
   "metadata": {},
   "outputs": [
    {
     "name": "stdout",
     "output_type": "stream",
     "text": [
      "<class 'complex'>\n",
      "<class 'complex'>\n"
     ]
    }
   ],
   "source": [
    "b=1+2j\n",
    "c=6+8j\n",
    "print (type(b))\n",
    "print(type(c))"
   ]
  },
  {
   "cell_type": "markdown",
   "id": "c75f4e35",
   "metadata": {},
   "source": [
    "BOOL"
   ]
  },
  {
   "cell_type": "code",
   "execution_count": 24,
   "id": "90e4a065",
   "metadata": {},
   "outputs": [
    {
     "name": "stdout",
     "output_type": "stream",
     "text": [
      "<class 'bool'>\n"
     ]
    }
   ],
   "source": [
    "a=True\n",
    "print(type(a))"
   ]
  },
  {
   "cell_type": "markdown",
   "id": "cd1aa32d",
   "metadata": {},
   "source": [
    "BYTES"
   ]
  },
  {
   "cell_type": "code",
   "execution_count": 3,
   "id": "64c24f94",
   "metadata": {},
   "outputs": [
    {
     "name": "stdout",
     "output_type": "stream",
     "text": [
      "[10, 20, 30, 40]\n"
     ]
    }
   ],
   "source": [
    "x = [10,20,30,40]\n",
    "print(x)"
   ]
  },
  {
   "cell_type": "code",
   "execution_count": 4,
   "id": "4f8aa6b8",
   "metadata": {},
   "outputs": [
    {
     "data": {
      "text/plain": [
       "list"
      ]
     },
     "execution_count": 4,
     "metadata": {},
     "output_type": "execute_result"
    }
   ],
   "source": [
    "type(x)"
   ]
  },
  {
   "cell_type": "code",
   "execution_count": 5,
   "id": "ecc2f6a5",
   "metadata": {},
   "outputs": [],
   "source": [
    "y = bytes(x)"
   ]
  },
  {
   "cell_type": "code",
   "execution_count": 6,
   "id": "4b0b55ee",
   "metadata": {},
   "outputs": [
    {
     "name": "stdout",
     "output_type": "stream",
     "text": [
      "<class 'bytes'>\n"
     ]
    }
   ],
   "source": [
    "print(type (y))"
   ]
  },
  {
   "cell_type": "code",
   "execution_count": 7,
   "id": "5aab5f83",
   "metadata": {},
   "outputs": [
    {
     "data": {
      "text/plain": [
       "bytes"
      ]
     },
     "execution_count": 7,
     "metadata": {},
     "output_type": "execute_result"
    }
   ],
   "source": [
    "type(y)"
   ]
  },
  {
   "cell_type": "code",
   "execution_count": 8,
   "id": "fa6c5add",
   "metadata": {},
   "outputs": [
    {
     "name": "stdout",
     "output_type": "stream",
     "text": [
      "False\n"
     ]
    }
   ],
   "source": [
    "print(x==y)"
   ]
  },
  {
   "cell_type": "markdown",
   "id": "456fd589",
   "metadata": {},
   "source": [
    "BYTEARRAY"
   ]
  },
  {
   "cell_type": "code",
   "execution_count": 9,
   "id": "4d66df03",
   "metadata": {},
   "outputs": [
    {
     "name": "stdout",
     "output_type": "stream",
     "text": [
      "bytearray(b'\\n\\x14\\x1e(2')\n"
     ]
    }
   ],
   "source": [
    "x = [10,20,30,40,50]\n",
    "y = bytearray(x)\n",
    "print(y)"
   ]
  },
  {
   "cell_type": "code",
   "execution_count": 10,
   "id": "441ad6a2",
   "metadata": {},
   "outputs": [
    {
     "data": {
      "text/plain": [
       "bytearray"
      ]
     },
     "execution_count": 10,
     "metadata": {},
     "output_type": "execute_result"
    }
   ],
   "source": [
    "type(y)"
   ]
  },
  {
   "cell_type": "code",
   "execution_count": 25,
   "id": "b5b4a3a4",
   "metadata": {},
   "outputs": [
    {
     "name": "stdout",
     "output_type": "stream",
     "text": [
      "Addition of 12 and 7 is:  19\n"
     ]
    }
   ],
   "source": [
    "a = int(input(\"Enter a number: \"))\n",
    "b = int(input(\"Enter b number: \"))\n",
    "print(f\"Addition of {a} and {b} is: \",a+b)"
   ]
  },
  {
   "cell_type": "code",
   "execution_count": null,
   "id": "6ad04815",
   "metadata": {},
   "outputs": [
    {
     "name": "stdout",
     "output_type": "stream",
     "text": [
      "subtraction of 24 and 67 is:  -43\n",
      "0.3582089552238806\n",
      "1608\n"
     ]
    }
   ],
   "source": [
    "a = int(input(\"Enter a number: \"))\n",
    "b = int(input(\"Enter b number: \"))\n",
    "print(f\"subtraction of {a} and {b} is: \",a-b)\n",
    "print(a/b)\n",
    "print(a*b)"
   ]
  },
  {
   "cell_type": "markdown",
   "id": "df82b4f7",
   "metadata": {},
   "source": [
    "STRING\n",
    "\n",
    "Definition: Any sequence of characters within single quotes or double quotes."
   ]
  },
  {
   "cell_type": "code",
   "execution_count": null,
   "id": "fad70295",
   "metadata": {},
   "outputs": [
    {
     "name": "stdout",
     "output_type": "stream",
     "text": [
      "Im Ananya Singh Babu\n",
      "Im Ananya Singh Babu\n"
     ]
    }
   ],
   "source": [
    "st1='Im Ananya Singh Babu'   # ' '\n",
    "print(st1)\n",
    "st2=\"Im Ananya Singh Babu\"   # \" \"\n",
    "print(st2)"
   ]
  },
  {
   "cell_type": "code",
   "execution_count": null,
   "id": "d5fd4233",
   "metadata": {},
   "outputs": [
    {
     "name": "stdout",
     "output_type": "stream",
     "text": [
      "Im Ananya Singh Babu. \n",
      "This year I had completed my graduation in computer science.\n"
     ]
    }
   ],
   "source": [
    "#For multi-line characters triple quotes (\"\"\") is used.\n",
    "\n",
    "st3=\"\"\"Im Ananya Singh Babu. \n",
    "This year I had completed my graduation in computer science.\"\"\"\n",
    "print(st3)"
   ]
  },
  {
   "cell_type": "code",
   "execution_count": 35,
   "id": "5279369e",
   "metadata": {},
   "outputs": [
    {
     "name": "stdout",
     "output_type": "stream",
     "text": [
      "Anjali Yadav\n",
      "Ananya singh00\n"
     ]
    }
   ],
   "source": [
    "name1=\"Anjali Yadav\"\n",
    "print(name1)\n",
    "\n",
    "name2=\"Ananya singh00\"\n",
    "print(name2)"
   ]
  },
  {
   "cell_type": "markdown",
   "id": "fcbcb4da",
   "metadata": {},
   "source": [
    "Access characters of a string\n",
    "\n",
    "     1.By using index\n",
    "     2.by using slice operator"
   ]
  },
  {
   "cell_type": "code",
   "execution_count": 46,
   "id": "2bdaa908",
   "metadata": {},
   "outputs": [
    {
     "data": {
      "text/plain": [
       "'j'"
      ]
     },
     "execution_count": 46,
     "metadata": {},
     "output_type": "execute_result"
    }
   ],
   "source": [
    "#Index\n",
    "name= \"Anjali Yadav\"\n",
    "name [2]\n"
   ]
  },
  {
   "cell_type": "code",
   "execution_count": 47,
   "id": "4e24615c",
   "metadata": {},
   "outputs": [
    {
     "data": {
      "text/plain": [
       "'Y'"
      ]
     },
     "execution_count": 47,
     "metadata": {},
     "output_type": "execute_result"
    }
   ],
   "source": [
    "name[7] "
   ]
  },
  {
   "cell_type": "code",
   "execution_count": 48,
   "id": "9805b189",
   "metadata": {},
   "outputs": [
    {
     "data": {
      "text/plain": [
       "'a'"
      ]
     },
     "execution_count": 48,
     "metadata": {},
     "output_type": "execute_result"
    }
   ],
   "source": [
    "name[-4]"
   ]
  },
  {
   "cell_type": "code",
   "execution_count": 49,
   "id": "3b714ad1",
   "metadata": {},
   "outputs": [
    {
     "data": {
      "text/plain": [
       "'Anjali Yadav'"
      ]
     },
     "execution_count": 49,
     "metadata": {},
     "output_type": "execute_result"
    }
   ],
   "source": [
    "name"
   ]
  },
  {
   "cell_type": "code",
   "execution_count": 50,
   "id": "2fa44818",
   "metadata": {},
   "outputs": [
    {
     "data": {
      "text/plain": [
       "'Yadav'"
      ]
     },
     "execution_count": 50,
     "metadata": {},
     "output_type": "execute_result"
    }
   ],
   "source": [
    "name[7:]"
   ]
  },
  {
   "cell_type": "code",
   "execution_count": 51,
   "id": "02c84576",
   "metadata": {},
   "outputs": [
    {
     "data": {
      "text/plain": [
       "' Yadav'"
      ]
     },
     "execution_count": 51,
     "metadata": {},
     "output_type": "execute_result"
    }
   ],
   "source": [
    "name[6:]   "
   ]
  },
  {
   "cell_type": "code",
   "execution_count": 53,
   "id": "64fd01a8",
   "metadata": {},
   "outputs": [
    {
     "data": {
      "text/plain": [
       "'adav'"
      ]
     },
     "execution_count": 53,
     "metadata": {},
     "output_type": "execute_result"
    }
   ],
   "source": [
    "name[8:]"
   ]
  },
  {
   "cell_type": "code",
   "execution_count": 54,
   "id": "06e0f4f9",
   "metadata": {},
   "outputs": [
    {
     "data": {
      "text/plain": [
       "'ANJALI YADAV'"
      ]
     },
     "execution_count": 54,
     "metadata": {},
     "output_type": "execute_result"
    }
   ],
   "source": [
    "name.upper()"
   ]
  },
  {
   "cell_type": "code",
   "execution_count": 55,
   "id": "2116b00a",
   "metadata": {},
   "outputs": [
    {
     "data": {
      "text/plain": [
       "'anjali yadav'"
      ]
     },
     "execution_count": 55,
     "metadata": {},
     "output_type": "execute_result"
    }
   ],
   "source": [
    "name.lower()"
   ]
  },
  {
   "cell_type": "code",
   "execution_count": 57,
   "id": "ed886ac9",
   "metadata": {},
   "outputs": [
    {
     "data": {
      "text/plain": [
       "'Anjali yadav'"
      ]
     },
     "execution_count": 57,
     "metadata": {},
     "output_type": "execute_result"
    }
   ],
   "source": [
    "name.capitalize()"
   ]
  },
  {
   "cell_type": "code",
   "execution_count": null,
   "id": "2d2bdd94",
   "metadata": {},
   "outputs": [
    {
     "data": {
      "text/plain": [
       "'Anjali Yadav'"
      ]
     },
     "execution_count": 59,
     "metadata": {},
     "output_type": "execute_result"
    }
   ],
   "source": [
    "name.title()"
   ]
  },
  {
   "cell_type": "code",
   "execution_count": 61,
   "id": "17a87bca",
   "metadata": {},
   "outputs": [
    {
     "data": {
      "text/plain": [
       "3"
      ]
     },
     "execution_count": 61,
     "metadata": {},
     "output_type": "execute_result"
    }
   ],
   "source": [
    "name.count('a')"
   ]
  },
  {
   "cell_type": "code",
   "execution_count": 63,
   "id": "21f04606",
   "metadata": {},
   "outputs": [
    {
     "data": {
      "text/plain": [
       "1"
      ]
     },
     "execution_count": 63,
     "metadata": {},
     "output_type": "execute_result"
    }
   ],
   "source": [
    "name.count('j')"
   ]
  },
  {
   "cell_type": "code",
   "execution_count": 65,
   "id": "d7412492",
   "metadata": {},
   "outputs": [
    {
     "data": {
      "text/plain": [
       "['Anjali', 'Yadav']"
      ]
     },
     "execution_count": 65,
     "metadata": {},
     "output_type": "execute_result"
    }
   ],
   "source": [
    "name.split()"
   ]
  },
  {
   "cell_type": "markdown",
   "id": "24c9629f",
   "metadata": {},
   "source": [
    "RANGE"
   ]
  },
  {
   "cell_type": "code",
   "execution_count": 69,
   "id": "4b50acd9",
   "metadata": {},
   "outputs": [
    {
     "name": "stdout",
     "output_type": "stream",
     "text": [
      "range(1, 20)\n",
      "1\n",
      "2\n",
      "3\n",
      "4\n",
      "5\n",
      "6\n",
      "7\n",
      "8\n",
      "9\n",
      "10\n",
      "11\n",
      "12\n",
      "13\n",
      "14\n",
      "15\n",
      "16\n",
      "17\n",
      "18\n",
      "19\n"
     ]
    }
   ],
   "source": [
    "a= range(1,20)\n",
    "print(a)\n",
    "for i in range(1,20):\n",
    "    print(i)"
   ]
  },
  {
   "cell_type": "code",
   "execution_count": 74,
   "id": "48434768",
   "metadata": {},
   "outputs": [
    {
     "name": "stdout",
     "output_type": "stream",
     "text": [
      "range(1, 5)\n",
      "1\n",
      "2\n",
      "3\n",
      "4\n"
     ]
    }
   ],
   "source": [
    "b= range (1,5)\n",
    "print(b)\n",
    "for i in range(1,5):\n",
    "   print(i) "
   ]
  },
  {
   "cell_type": "code",
   "execution_count": 82,
   "id": "0e07afab",
   "metadata": {},
   "outputs": [
    {
     "name": "stdout",
     "output_type": "stream",
     "text": [
      "range(1, 5)\n",
      "1\n",
      "2\n",
      "2\n",
      "3\n",
      "3\n",
      "4\n",
      "4\n",
      "5\n"
     ]
    }
   ],
   "source": [
    "b= range (1,5)\n",
    "print(b)\n",
    "for i in range(1,5):\n",
    "   print(i) \n",
    "   print(i+1)"
   ]
  },
  {
   "cell_type": "code",
   "execution_count": 85,
   "id": "52a2ce75",
   "metadata": {},
   "outputs": [
    {
     "name": "stdout",
     "output_type": "stream",
     "text": [
      "range(1, 5)\n",
      "1\n",
      "2\n",
      "3\n",
      "4\n",
      "5\n"
     ]
    }
   ],
   "source": [
    "c= range (1,5)\n",
    "print(c)\n",
    "for i in range(1,6):\n",
    "   print(i) \n",
    "   "
   ]
  },
  {
   "cell_type": "markdown",
   "id": "901494e3",
   "metadata": {},
   "source": [
    "LIST"
   ]
  },
  {
   "cell_type": "code",
   "execution_count": 86,
   "id": "f096eabc",
   "metadata": {},
   "outputs": [
    {
     "name": "stdout",
     "output_type": "stream",
     "text": [
      "[1, 2, 3, 4, 5, 6]\n",
      "<class 'list'>\n"
     ]
    }
   ],
   "source": [
    "lst = [1,2,3,4,5,6]\n",
    "print(lst)\n",
    "print(type(lst))"
   ]
  },
  {
   "cell_type": "code",
   "execution_count": 88,
   "id": "4f9b4e0f",
   "metadata": {},
   "outputs": [
    {
     "data": {
      "text/plain": [
       "2"
      ]
     },
     "execution_count": 88,
     "metadata": {},
     "output_type": "execute_result"
    }
   ],
   "source": [
    "lst[1]"
   ]
  },
  {
   "cell_type": "code",
   "execution_count": 89,
   "id": "d64f0d6c",
   "metadata": {},
   "outputs": [
    {
     "data": {
      "text/plain": [
       "[2, 3, 4]"
      ]
     },
     "execution_count": 89,
     "metadata": {},
     "output_type": "execute_result"
    }
   ],
   "source": [
    "lst[1:4]"
   ]
  },
  {
   "cell_type": "code",
   "execution_count": 91,
   "id": "0cd93dde",
   "metadata": {},
   "outputs": [
    {
     "data": {
      "text/plain": [
       "6"
      ]
     },
     "execution_count": 91,
     "metadata": {},
     "output_type": "execute_result"
    }
   ],
   "source": [
    "len(lst)"
   ]
  },
  {
   "cell_type": "code",
   "execution_count": 92,
   "id": "02ea00a2",
   "metadata": {},
   "outputs": [],
   "source": [
    "lst.append(10)"
   ]
  },
  {
   "cell_type": "code",
   "execution_count": 93,
   "id": "b94e8a8f",
   "metadata": {},
   "outputs": [
    {
     "data": {
      "text/plain": [
       "[1, 2, 3, 4, 5, 6, 10]"
      ]
     },
     "execution_count": 93,
     "metadata": {},
     "output_type": "execute_result"
    }
   ],
   "source": [
    "lst"
   ]
  },
  {
   "cell_type": "code",
   "execution_count": 95,
   "id": "ee7af213",
   "metadata": {},
   "outputs": [],
   "source": [
    "lst.insert(5,7)"
   ]
  },
  {
   "cell_type": "code",
   "execution_count": 96,
   "id": "f4cc0152",
   "metadata": {},
   "outputs": [
    {
     "data": {
      "text/plain": [
       "[1, 2, 3, 4, 5, 7, 6, 10]"
      ]
     },
     "execution_count": 96,
     "metadata": {},
     "output_type": "execute_result"
    }
   ],
   "source": [
    "lst"
   ]
  },
  {
   "cell_type": "code",
   "execution_count": 97,
   "id": "f90fa4bd",
   "metadata": {},
   "outputs": [
    {
     "data": {
      "text/plain": [
       "10"
      ]
     },
     "execution_count": 97,
     "metadata": {},
     "output_type": "execute_result"
    }
   ],
   "source": [
    "lst.pop()"
   ]
  },
  {
   "cell_type": "code",
   "execution_count": 98,
   "id": "1b49900d",
   "metadata": {},
   "outputs": [
    {
     "data": {
      "text/plain": [
       "[1, 2, 3, 4, 5, 7, 6]"
      ]
     },
     "execution_count": 98,
     "metadata": {},
     "output_type": "execute_result"
    }
   ],
   "source": [
    "lst"
   ]
  },
  {
   "cell_type": "code",
   "execution_count": 99,
   "id": "5cdc0681",
   "metadata": {},
   "outputs": [],
   "source": [
    "lst.sort(reverse=True)"
   ]
  },
  {
   "cell_type": "code",
   "execution_count": 100,
   "id": "14400902",
   "metadata": {},
   "outputs": [
    {
     "data": {
      "text/plain": [
       "[7, 6, 5, 4, 3, 2, 1]"
      ]
     },
     "execution_count": 100,
     "metadata": {},
     "output_type": "execute_result"
    }
   ],
   "source": [
    "lst"
   ]
  },
  {
   "cell_type": "markdown",
   "id": "c1408a72",
   "metadata": {},
   "source": [
    "TUPLE"
   ]
  },
  {
   "cell_type": "code",
   "execution_count": 102,
   "id": "c6d6162c",
   "metadata": {},
   "outputs": [
    {
     "name": "stdout",
     "output_type": "stream",
     "text": [
      "(21, 22, 23, 24, 25)\n"
     ]
    }
   ],
   "source": [
    "t1 = (21,22,23,24,25,)\n",
    "print(t1)"
   ]
  },
  {
   "cell_type": "code",
   "execution_count": 104,
   "id": "c0d908d0",
   "metadata": {},
   "outputs": [
    {
     "name": "stdout",
     "output_type": "stream",
     "text": [
      "(1, 2, 3, 4, 5)\n"
     ]
    }
   ],
   "source": [
    "t2=(1,2,3,4,5)\n",
    "print(t2)\n"
   ]
  },
  {
   "cell_type": "code",
   "execution_count": 105,
   "id": "ac22feb8",
   "metadata": {},
   "outputs": [
    {
     "name": "stdout",
     "output_type": "stream",
     "text": [
      "(21, 22, 23, 24, 25, 1, 2, 3, 4, 5)\n"
     ]
    }
   ],
   "source": [
    "print(t1+t2)"
   ]
  },
  {
   "cell_type": "code",
   "execution_count": 106,
   "id": "daec2d29",
   "metadata": {},
   "outputs": [
    {
     "data": {
      "text/plain": [
       "10"
      ]
     },
     "execution_count": 106,
     "metadata": {},
     "output_type": "execute_result"
    }
   ],
   "source": [
    "len(t1+t2)"
   ]
  },
  {
   "cell_type": "code",
   "execution_count": 107,
   "id": "d8da098d",
   "metadata": {},
   "outputs": [
    {
     "data": {
      "text/plain": [
       "25"
      ]
     },
     "execution_count": 107,
     "metadata": {},
     "output_type": "execute_result"
    }
   ],
   "source": [
    "max(t1+t2)"
   ]
  },
  {
   "cell_type": "code",
   "execution_count": null,
   "id": "0350998f",
   "metadata": {},
   "outputs": [],
   "source": []
  }
 ],
 "metadata": {
  "kernelspec": {
   "display_name": "venv",
   "language": "python",
   "name": "python3"
  },
  "language_info": {
   "codemirror_mode": {
    "name": "ipython",
    "version": 3
   },
   "file_extension": ".py",
   "mimetype": "text/x-python",
   "name": "python",
   "nbconvert_exporter": "python",
   "pygments_lexer": "ipython3",
   "version": "3.12.10"
  }
 },
 "nbformat": 4,
 "nbformat_minor": 5
}
