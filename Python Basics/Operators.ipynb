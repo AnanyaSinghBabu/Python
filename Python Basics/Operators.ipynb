{
 "cells": [
  {
   "cell_type": "markdown",
   "id": "94fa288f",
   "metadata": {},
   "source": [
    "OPERATORS\n"
   ]
  },
  {
   "cell_type": "markdown",
   "id": "d9a72226",
   "metadata": {},
   "source": [
    "Arithmetic operators\n",
    "Comparison operators\n",
    "Assignment Operators\n",
    "Logical Operators\n",
    "Bitwise Operators\n",
    "Membership Operators\n",
    "Identity Operators"
   ]
  },
  {
   "cell_type": "markdown",
   "id": "2912bcbb",
   "metadata": {},
   "source": [
    "ARITHMATIC OPERATORS"
   ]
  },
  {
   "cell_type": "code",
   "execution_count": 2,
   "id": "0bc36308",
   "metadata": {},
   "outputs": [],
   "source": [
    "## Arithmetic Operator\n",
    "a = 56\n",
    "b = 29"
   ]
  },
  {
   "cell_type": "code",
   "execution_count": 3,
   "id": "dcd3de81",
   "metadata": {},
   "outputs": [
    {
     "name": "stdout",
     "output_type": "stream",
     "text": [
      "Arithmetic Operators\n",
      "Addition 85\n",
      "Subtraction 27\n",
      "Multiplication 1624\n",
      "division 1.9310344827586208\n",
      "Remainder 27\n",
      "Exponent 498256282230823722187324267943936643753714170986496\n",
      "Floor division 1\n"
     ]
    }
   ],
   "source": [
    "print(\"Arithmetic Operators\")\n",
    "print(\"Addition\", a+b)\n",
    "print(\"Subtraction\", a-b)\n",
    "print(\"Multiplication\",a*b)\n",
    "print(\"division\",a/b)\n",
    "print(\"Remainder\",a%b)\n",
    "print(\"Exponent\",a**b)\n",
    "print(\"Floor division\",a//b)"
   ]
  },
  {
   "cell_type": "code",
   "execution_count": 2,
   "id": "eca49a03",
   "metadata": {},
   "outputs": [
    {
     "name": "stdout",
     "output_type": "stream",
     "text": [
      "Arithmetic Operators\n",
      "Addition 100\n",
      "Subtraction 20\n",
      "Multiplication 2400\n",
      "division 1.5\n",
      "Remainder 20\n",
      "Exponent 133674945388437340678388459765760000000000000000000000000000000000000000\n",
      "Floor division 1\n"
     ]
    }
   ],
   "source": [
    "c=60\n",
    "d=40\n",
    "print(\"Arithmetic Operators\")\n",
    "print(\"Addition\", c+d)\n",
    "print(\"Subtraction\", c-d)\n",
    "print(\"Multiplication\",c*d)\n",
    "print(\"division\",c/d)\n",
    "print(\"Remainder\",c%d)\n",
    "print(\"Exponent\",c**d)\n",
    "print(\"Floor division\",c//d)\n"
   ]
  },
  {
   "cell_type": "markdown",
   "id": "06f81947",
   "metadata": {},
   "source": [
    "COMPARISION OPERATORS"
   ]
  },
  {
   "cell_type": "code",
   "execution_count": 4,
   "id": "b65139cf",
   "metadata": {},
   "outputs": [
    {
     "name": "stdout",
     "output_type": "stream",
     "text": [
      "Comparison Operator\n",
      "Equals Operator False\n",
      "Not Equals Operator True\n",
      "Less than or equal operator False\n",
      "Greater than or equal operator True\n",
      "Greater than Operator True\n",
      "Less than Operator False\n"
     ]
    }
   ],
   "source": [
    "## Comparison Operators\n",
    "x = 35\n",
    "y = 5\n",
    "print(\"Comparison Operator\")\n",
    "print(\"Equals Operator\",x==y)\n",
    "print(\"Not Equals Operator\",x!=y)\n",
    "print(\"Less than or equal operator\",x<=y)\n",
    "print(\"Greater than or equal operator\",x>=y)\n",
    "print(\"Greater than Operator\",x>y)\n",
    "print(\"Less than Operator\",x<y)"
   ]
  },
  {
   "cell_type": "code",
   "execution_count": 4,
   "id": "6a23c828",
   "metadata": {},
   "outputs": [
    {
     "name": "stdout",
     "output_type": "stream",
     "text": [
      "Comparison Operator\n",
      "Equals Operator False\n",
      "Not Equals Operator True\n",
      "Less than or equal operator False\n",
      "Greater than or equal operator True\n",
      "Greater than Operator True\n",
      "Less than Operator False\n"
     ]
    }
   ],
   "source": [
    "e=45\n",
    "f=8\n",
    "print(\"Comparison Operator\")\n",
    "print(\"Equals Operator\",e==f)\n",
    "print(\"Not Equals Operator\",e!=f)\n",
    "print(\"Less than or equal operator\",e<=f)\n",
    "print(\"Greater than or equal operator\",e>=f)\n",
    "print(\"Greater than Operator\",e>f)\n",
    "print(\"Less than Operator\",e<f)\n",
    "\n"
   ]
  },
  {
   "cell_type": "markdown",
   "id": "63d118ed",
   "metadata": {},
   "source": [
    "PYTHON ASSIGNMENT OPERATORS"
   ]
  },
  {
   "cell_type": "code",
   "execution_count": null,
   "id": "3f5a7bba",
   "metadata": {},
   "outputs": [
    {
     "name": "stdout",
     "output_type": "stream",
     "text": [
      "x = 10\n",
      "x after x += 5: 15\n",
      "x after x -= 3: 12\n",
      "x after x *= 2: 24\n",
      "x after x /= 4: 6.0\n",
      "x after x %= 5: 1.0\n"
     ]
    }
   ],
   "source": [
    "# Basic assignment\n",
    "x = 10\n",
    "print(\"x =\", x)  \n",
    "\n",
    "# Add and assign\n",
    "x += 5  # Equivalent to: x = x + 5\n",
    "print(\"x after x += 5:\", x)  \n",
    "\n",
    "# Subtract and assign\n",
    "x -= 3  # Equivalent to: x = x - 3\n",
    "print(\"x after x -= 3:\", x)  \n",
    "\n",
    "# Multiply and assign\n",
    "x *= 2  # Equivalent to: x = x * 2\n",
    "print(\"x after x *= 2:\", x)  \n",
    "\n",
    "# Divide and assign\n",
    "x /= 4  # Equivalent to: x = x / 4\n",
    "print(\"x after x /= 4:\", x)  \n",
    "\n",
    "# Modulus and assign\n",
    "x %= 5  # Equivalent to: x = x % 5\n",
    "print(\"x after x %= 5:\", x) "
   ]
  },
  {
   "cell_type": "markdown",
   "id": "75d17393",
   "metadata": {},
   "source": [
    "BITWISE OPERATORS"
   ]
  },
  {
   "cell_type": "code",
   "execution_count": 11,
   "id": "9df5e524",
   "metadata": {},
   "outputs": [
    {
     "name": "stdout",
     "output_type": "stream",
     "text": [
      "Binary of t is: 0b11110\n",
      "Binary of u is: 0b1000\n"
     ]
    }
   ],
   "source": [
    "# Convert to binary\n",
    "a = bin(t)\n",
    "b = bin(u)\n",
    "\n",
    "print(\"Binary of t is:\", a)\n",
    "print(\"Binary of u is:\", b)"
   ]
  },
  {
   "cell_type": "code",
   "execution_count": 12,
   "id": "864f4b34",
   "metadata": {},
   "outputs": [
    {
     "name": "stdout",
     "output_type": "stream",
     "text": [
      "t & u = 0b1000\n",
      "t | u = 0b11110\n",
      "t ^ u = 0b10110\n",
      "~t = -0b11111\n",
      "t << 1 = 0b111100\n",
      "t >> 1 = 0b1111\n"
     ]
    }
   ],
   "source": [
    "print(\"t & u =\", bin(t & u))    # Bitwise AND\n",
    "print(\"t | u =\", bin(t | u))    # Bitwise OR\n",
    "print(\"t ^ u =\", bin(t ^ u))    # Bitwise XOR\n",
    "print(\"~t =\", bin(~t))          # Bitwise NOT of t\n",
    "print(\"t << 1 =\", bin(t << 1))  # Left shift\n",
    "print(\"t >> 1 =\", bin(t >> 1))  # Right shift"
   ]
  },
  {
   "cell_type": "markdown",
   "id": "fa36451d",
   "metadata": {},
   "source": [
    "LOGICAL OPERATORS"
   ]
  },
  {
   "cell_type": "code",
   "execution_count": 14,
   "id": "d9955f59",
   "metadata": {},
   "outputs": [
    {
     "name": "stdout",
     "output_type": "stream",
     "text": [
      "e > 20 and f < 15: True\n",
      "e < 20 or f < 15: True\n",
      "not (e == 27): False\n"
     ]
    }
   ],
   "source": [
    "# Logical operations\n",
    "e=27\n",
    "f=10\n",
    "print(\"e > 20 and f < 15:\", e > 20 and f < 15)  # True and True → True\n",
    "print(\"e < 20 or f < 15:\", e < 20 or f < 15)    # False or True → True\n",
    "print(\"not (e == 27):\", not (e == 27))          # not True → False"
   ]
  },
  {
   "cell_type": "code",
   "execution_count": null,
   "id": "89a2157e",
   "metadata": {},
   "outputs": [
    {
     "name": "stdout",
     "output_type": "stream",
     "text": [
      "r > 20 and s < 15: False\n",
      "r < 20 or s < 15: False\n",
      "not (r == 27): True\n"
     ]
    }
   ],
   "source": [
    "r=45\n",
    "s=25\n",
    "print(\"r > 20 and s < 15:\", r > 20 and s < 15)  # True and True → True\n",
    "print(\"r < 20 or s < 15:\", r < 20 or s < 15)    # False or True → True\n",
    "print(\"not (r == 27):\", not (s == 27))          # not True → False "
   ]
  },
  {
   "cell_type": "markdown",
   "id": "bb1b61d9",
   "metadata": {},
   "source": [
    "MEMBERSHIP OPERATORS\n",
    "(in,not in)"
   ]
  },
  {
   "cell_type": "code",
   "execution_count": 9,
   "id": "51dae2fb",
   "metadata": {},
   "outputs": [
    {
     "name": "stdout",
     "output_type": "stream",
     "text": [
      "True\n",
      "True\n",
      "True\n",
      "False\n"
     ]
    }
   ],
   "source": [
    "# WITH A LIST\n",
    "fruits = ['apple', 'banana', 'cherry']\n",
    "\n",
    "print('banana' in fruits)      \n",
    "print('grape' not in fruits)   \n",
    "print('apple' in fruits)\n",
    "print('ram' in fruits)\n"
   ]
  },
  {
   "cell_type": "code",
   "execution_count": 6,
   "id": "605f1271",
   "metadata": {},
   "outputs": [
    {
     "name": "stdout",
     "output_type": "stream",
     "text": [
      "True\n",
      "True\n",
      "False\n"
     ]
    }
   ],
   "source": [
    "# WITH A STRING\n",
    "message = \"Hello, Im Ananya Singh Babu.\"\n",
    "\n",
    "print('Hello' in message)   \n",
    "print('hi' not in message)  \n",
    "print('Ananya' not in message)   \n"
   ]
  },
  {
   "cell_type": "code",
   "execution_count": 8,
   "id": "07ef5031",
   "metadata": {},
   "outputs": [
    {
     "name": "stdout",
     "output_type": "stream",
     "text": [
      "True\n",
      "True\n",
      "False\n"
     ]
    }
   ],
   "source": [
    "# WITH A TUPLE\n",
    "numbers = (1, 2, 3, 4)\n",
    "\n",
    "print(3 in numbers)           \n",
    "print(5 not in numbers) \n",
    "print(5 in numbers)       "
   ]
  },
  {
   "cell_type": "code",
   "execution_count": 11,
   "id": "07cd8e86",
   "metadata": {},
   "outputs": [
    {
     "name": "stdout",
     "output_type": "stream",
     "text": [
      "True\n",
      "True\n",
      "False\n"
     ]
    }
   ],
   "source": [
    "# WITH A SET\n",
    "colors = {'red', 'green', 'blue'}\n",
    "\n",
    "print('green' in colors)       \n",
    "print('yellow' not in colors) \n",
    "print('black' in colors) \n"
   ]
  },
  {
   "cell_type": "code",
   "execution_count": 15,
   "id": "58e97730",
   "metadata": {},
   "outputs": [
    {
     "name": "stdout",
     "output_type": "stream",
     "text": [
      "True\n",
      "False\n",
      "True\n",
      "False\n"
     ]
    }
   ],
   "source": [
    "# WITH A DICTIONARY\n",
    "person = {'name': 'Alice', 'age': 30}\n",
    "\n",
    "print('name' in person)        \n",
    "print('Alice' in person) \n",
    "print('Alice' not in person) \n",
    "print('age' not in person)     "
   ]
  },
  {
   "cell_type": "markdown",
   "id": "80b9e8f7",
   "metadata": {},
   "source": [
    "IDENTIFY OPERATORS( is, is not)"
   ]
  },
  {
   "cell_type": "code",
   "execution_count": null,
   "id": "5665c36d",
   "metadata": {},
   "outputs": [
    {
     "name": "stdout",
     "output_type": "stream",
     "text": [
      "True\n",
      "False\n",
      "True\n",
      "False\n"
     ]
    }
   ],
   "source": [
    "# WITH LIST\n",
    "\n",
    "x = [1, 2, 3]\n",
    "y = [1, 2, 3]\n",
    "\n",
    "print(x == y)   # True — values are equal\n",
    "print(x is y)   # False — different memory objects\n",
    "print(x is not y)\n",
    "print(x is y)\n"
   ]
  },
  {
   "cell_type": "code",
   "execution_count": 21,
   "id": "109da15b",
   "metadata": {},
   "outputs": [
    {
     "name": "stdout",
     "output_type": "stream",
     "text": [
      "False\n",
      "False\n",
      "True\n"
     ]
    }
   ],
   "source": [
    "s= [1,2,3]\n",
    "t= [3,8,9]\n",
    "\n",
    "print(s == t)\n",
    "print(s is t)\n",
    "print(s is not t)\n"
   ]
  },
  {
   "cell_type": "code",
   "execution_count": 22,
   "id": "c32b6e0a",
   "metadata": {},
   "outputs": [
    {
     "name": "stdout",
     "output_type": "stream",
     "text": [
      "True\n",
      "True\n"
     ]
    }
   ],
   "source": [
    "# with string\n",
    "s1 = \"hello\"\n",
    "s2 = \"hello\"\n",
    "\n",
    "print(s1 == s2)   # True — values match\n",
    "print(s1 is s2)   # True — may be True due to string interning"
   ]
  },
  {
   "cell_type": "code",
   "execution_count": 25,
   "id": "e95d9e4a",
   "metadata": {},
   "outputs": [
    {
     "name": "stdout",
     "output_type": "stream",
     "text": [
      "False\n",
      "False\n",
      "True\n"
     ]
    }
   ],
   "source": [
    "a1 = \"rurhnn\"\n",
    "a2 = \"ahhsnl\"\n",
    "\n",
    "print(a1 == a2)\n",
    "print(a1 is a2)\n",
    "print(a1 is not a2)"
   ]
  },
  {
   "cell_type": "code",
   "execution_count": null,
   "id": "4a9d2b19",
   "metadata": {},
   "outputs": [],
   "source": []
  }
 ],
 "metadata": {
  "kernelspec": {
   "display_name": "venv",
   "language": "python",
   "name": "python3"
  },
  "language_info": {
   "codemirror_mode": {
    "name": "ipython",
    "version": 3
   },
   "file_extension": ".py",
   "mimetype": "text/x-python",
   "name": "python",
   "nbconvert_exporter": "python",
   "pygments_lexer": "ipython3",
   "version": "3.12.10"
  }
 },
 "nbformat": 4,
 "nbformat_minor": 5
}
