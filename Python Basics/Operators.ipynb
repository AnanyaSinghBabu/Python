{
 "cells": [
  {
   "cell_type": "markdown",
   "id": "94fa288f",
   "metadata": {},
   "source": [
    "OPERATORS\n"
   ]
  },
  {
   "cell_type": "markdown",
   "id": "d9a72226",
   "metadata": {},
   "source": [
    "Arithmetic operators\n",
    "Comparison operators\n",
    "Assignment Operators\n",
    "Logical Operators\n",
    "Bitwise Operators\n",
    "Membership Operators\n",
    "Identity Operators"
   ]
  },
  {
   "cell_type": "code",
   "execution_count": 2,
   "id": "0bc36308",
   "metadata": {},
   "outputs": [],
   "source": [
    "## Arithmetic Operator\n",
    "a = 56\n",
    "b = 29"
   ]
  },
  {
   "cell_type": "code",
   "execution_count": 3,
   "id": "dcd3de81",
   "metadata": {},
   "outputs": [
    {
     "name": "stdout",
     "output_type": "stream",
     "text": [
      "Arithmetic Operators\n",
      "Addition 85\n",
      "Subtraction 27\n",
      "Multiplication 1624\n",
      "division 1.9310344827586208\n",
      "Remainder 27\n",
      "Exponent 498256282230823722187324267943936643753714170986496\n",
      "Floor division 1\n"
     ]
    }
   ],
   "source": [
    "print(\"Arithmetic Operators\")\n",
    "print(\"Addition\", a+b)\n",
    "print(\"Subtraction\", a-b)\n",
    "print(\"Multiplication\",a*b)\n",
    "print(\"division\",a/b)\n",
    "print(\"Remainder\",a%b)\n",
    "print(\"Exponent\",a**b)\n",
    "print(\"Floor division\",a//b)"
   ]
  },
  {
   "cell_type": "code",
   "execution_count": 4,
   "id": "b65139cf",
   "metadata": {},
   "outputs": [
    {
     "name": "stdout",
     "output_type": "stream",
     "text": [
      "Comparison Operator\n",
      "Equals Operator False\n",
      "Not Equals Operator True\n",
      "Less than or equal operator False\n",
      "Greater than or equal operator True\n",
      "Greater than Operator True\n",
      "Less than Operator False\n"
     ]
    }
   ],
   "source": [
    "## Comparison Operators\n",
    "x = 35\n",
    "y = 5\n",
    "print(\"Comparison Operator\")\n",
    "print(\"Equals Operator\",x==y)\n",
    "print(\"Not Equals Operator\",x!=y)\n",
    "print(\"Less than or equal operator\",x<=y)\n",
    "print(\"Greater than or equal operator\",x>=y)\n",
    "print(\"Greater than Operator\",x>y)\n",
    "print(\"Less than Operator\",x<y)"
   ]
  },
  {
   "cell_type": "code",
   "execution_count": null,
   "id": "a62cab92",
   "metadata": {},
   "outputs": [],
   "source": []
  }
 ],
 "metadata": {
  "kernelspec": {
   "display_name": "venv",
   "language": "python",
   "name": "python3"
  },
  "language_info": {
   "codemirror_mode": {
    "name": "ipython",
    "version": 3
   },
   "file_extension": ".py",
   "mimetype": "text/x-python",
   "name": "python",
   "nbconvert_exporter": "python",
   "pygments_lexer": "ipython3",
   "version": "3.12.10"
  }
 },
 "nbformat": 4,
 "nbformat_minor": 5
}
