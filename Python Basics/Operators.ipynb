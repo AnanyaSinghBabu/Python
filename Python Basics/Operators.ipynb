{
 "cells": [
  {
   "cell_type": "markdown",
   "id": "94fa288f",
   "metadata": {},
   "source": [
    "OPERATORS\n"
   ]
  },
  {
   "cell_type": "markdown",
   "id": "d9a72226",
   "metadata": {},
   "source": [
    "Arithmetic operators\n",
    "Comparison operators\n",
    "Assignment Operators\n",
    "Logical Operators\n",
    "Bitwise Operators\n",
    "Membership Operators\n",
    "Identity Operators"
   ]
  },
  {
   "cell_type": "markdown",
   "id": "2912bcbb",
   "metadata": {},
   "source": [
    "ARITHMATIC OPERATORS"
   ]
  },
  {
   "cell_type": "code",
   "execution_count": 2,
   "id": "0bc36308",
   "metadata": {},
   "outputs": [],
   "source": [
    "## Arithmetic Operator\n",
    "a = 56\n",
    "b = 29"
   ]
  },
  {
   "cell_type": "code",
   "execution_count": 3,
   "id": "dcd3de81",
   "metadata": {},
   "outputs": [
    {
     "name": "stdout",
     "output_type": "stream",
     "text": [
      "Arithmetic Operators\n",
      "Addition 85\n",
      "Subtraction 27\n",
      "Multiplication 1624\n",
      "division 1.9310344827586208\n",
      "Remainder 27\n",
      "Exponent 498256282230823722187324267943936643753714170986496\n",
      "Floor division 1\n"
     ]
    }
   ],
   "source": [
    "print(\"Arithmetic Operators\")\n",
    "print(\"Addition\", a+b)\n",
    "print(\"Subtraction\", a-b)\n",
    "print(\"Multiplication\",a*b)\n",
    "print(\"division\",a/b)\n",
    "print(\"Remainder\",a%b)\n",
    "print(\"Exponent\",a**b)\n",
    "print(\"Floor division\",a//b)"
   ]
  },
  {
   "cell_type": "markdown",
   "id": "06f81947",
   "metadata": {},
   "source": [
    "COMPARISION OPERATORS"
   ]
  },
  {
   "cell_type": "code",
   "execution_count": 4,
   "id": "b65139cf",
   "metadata": {},
   "outputs": [
    {
     "name": "stdout",
     "output_type": "stream",
     "text": [
      "Comparison Operator\n",
      "Equals Operator False\n",
      "Not Equals Operator True\n",
      "Less than or equal operator False\n",
      "Greater than or equal operator True\n",
      "Greater than Operator True\n",
      "Less than Operator False\n"
     ]
    }
   ],
   "source": [
    "## Comparison Operators\n",
    "x = 35\n",
    "y = 5\n",
    "print(\"Comparison Operator\")\n",
    "print(\"Equals Operator\",x==y)\n",
    "print(\"Not Equals Operator\",x!=y)\n",
    "print(\"Less than or equal operator\",x<=y)\n",
    "print(\"Greater than or equal operator\",x>=y)\n",
    "print(\"Greater than Operator\",x>y)\n",
    "print(\"Less than Operator\",x<y)"
   ]
  },
  {
   "cell_type": "markdown",
   "id": "75d17393",
   "metadata": {},
   "source": [
    "BITWISE OPERATORS"
   ]
  },
  {
   "cell_type": "code",
   "execution_count": 11,
   "id": "9df5e524",
   "metadata": {},
   "outputs": [
    {
     "name": "stdout",
     "output_type": "stream",
     "text": [
      "Binary of t is: 0b11110\n",
      "Binary of u is: 0b1000\n"
     ]
    }
   ],
   "source": [
    "# Convert to binary\n",
    "a = bin(t)\n",
    "b = bin(u)\n",
    "\n",
    "print(\"Binary of t is:\", a)\n",
    "print(\"Binary of u is:\", b)"
   ]
  },
  {
   "cell_type": "code",
   "execution_count": 12,
   "id": "864f4b34",
   "metadata": {},
   "outputs": [
    {
     "name": "stdout",
     "output_type": "stream",
     "text": [
      "t & u = 0b1000\n",
      "t | u = 0b11110\n",
      "t ^ u = 0b10110\n",
      "~t = -0b11111\n",
      "t << 1 = 0b111100\n",
      "t >> 1 = 0b1111\n"
     ]
    }
   ],
   "source": [
    "print(\"t & u =\", bin(t & u))    # Bitwise AND\n",
    "print(\"t | u =\", bin(t | u))    # Bitwise OR\n",
    "print(\"t ^ u =\", bin(t ^ u))    # Bitwise XOR\n",
    "print(\"~t =\", bin(~t))          # Bitwise NOT of t\n",
    "print(\"t << 1 =\", bin(t << 1))  # Left shift\n",
    "print(\"t >> 1 =\", bin(t >> 1))  # Right shift"
   ]
  },
  {
   "cell_type": "markdown",
   "id": "fa36451d",
   "metadata": {},
   "source": [
    "LOGICAL OPERATORS"
   ]
  },
  {
   "cell_type": "code",
   "execution_count": 14,
   "id": "d9955f59",
   "metadata": {},
   "outputs": [
    {
     "name": "stdout",
     "output_type": "stream",
     "text": [
      "e > 20 and f < 15: True\n",
      "e < 20 or f < 15: True\n",
      "not (e == 27): False\n"
     ]
    }
   ],
   "source": [
    "# Logical operations\n",
    "e=27\n",
    "f=10\n",
    "print(\"e > 20 and f < 15:\", e > 20 and f < 15)  # True and True → True\n",
    "print(\"e < 20 or f < 15:\", e < 20 or f < 15)    # False or True → True\n",
    "print(\"not (e == 27):\", not (e == 27))          # not True → False"
   ]
  }
 ],
 "metadata": {
  "kernelspec": {
   "display_name": "venv",
   "language": "python",
   "name": "python3"
  },
  "language_info": {
   "codemirror_mode": {
    "name": "ipython",
    "version": 3
   },
   "file_extension": ".py",
   "mimetype": "text/x-python",
   "name": "python",
   "nbconvert_exporter": "python",
   "pygments_lexer": "ipython3",
   "version": "3.12.10"
  }
 },
 "nbformat": 4,
 "nbformat_minor": 5
}
